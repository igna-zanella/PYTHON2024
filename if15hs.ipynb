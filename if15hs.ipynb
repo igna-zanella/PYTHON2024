{
 "cells": [
  {
   "cell_type": "code",
   "execution_count": 1,
   "id": "72e08f9c-914b-449e-8873-d0ea0fdefcd4",
   "metadata": {},
   "outputs": [
    {
     "data": {
      "text/plain": [
       "False"
      ]
     },
     "execution_count": 1,
     "metadata": {},
     "output_type": "execute_result"
    }
   ],
   "source": [
    "3==2"
   ]
  },
  {
   "cell_type": "code",
   "execution_count": 2,
   "id": "0364ae23-df7a-4856-863c-c06f60d99af2",
   "metadata": {},
   "outputs": [
    {
     "data": {
      "text/plain": [
       "True"
      ]
     },
     "execution_count": 2,
     "metadata": {},
     "output_type": "execute_result"
    }
   ],
   "source": [
    "3!=2"
   ]
  },
  {
   "cell_type": "code",
   "execution_count": 3,
   "id": "eac1c53d-cbe1-4643-bfdb-1572a8c9ccf7",
   "metadata": {},
   "outputs": [
    {
     "data": {
      "text/plain": [
       "True"
      ]
     },
     "execution_count": 3,
     "metadata": {},
     "output_type": "execute_result"
    }
   ],
   "source": [
    "3>2"
   ]
  },
  {
   "cell_type": "code",
   "execution_count": 4,
   "id": "31aa371d-cf8a-4f15-bc4b-e3e7d718fe45",
   "metadata": {},
   "outputs": [
    {
     "data": {
      "text/plain": [
       "False"
      ]
     },
     "execution_count": 4,
     "metadata": {},
     "output_type": "execute_result"
    }
   ],
   "source": [
    "3<2"
   ]
  },
  {
   "cell_type": "code",
   "execution_count": 5,
   "id": "226853f9-ec17-4770-8c94-6e562b5a2a12",
   "metadata": {},
   "outputs": [
    {
     "data": {
      "text/plain": [
       "True"
      ]
     },
     "execution_count": 5,
     "metadata": {},
     "output_type": "execute_result"
    }
   ],
   "source": [
    "2>=2"
   ]
  },
  {
   "cell_type": "code",
   "execution_count": 6,
   "id": "5edd3f73-9fcf-42ba-b842-6a133c137f31",
   "metadata": {},
   "outputs": [
    {
     "data": {
      "text/plain": [
       "True"
      ]
     },
     "execution_count": 6,
     "metadata": {},
     "output_type": "execute_result"
    }
   ],
   "source": [
    "1<=2"
   ]
  },
  {
   "cell_type": "code",
   "execution_count": 7,
   "id": "86e90f46-bd99-4b4c-b9df-f9b9aed31a11",
   "metadata": {},
   "outputs": [
    {
     "data": {
      "text/plain": [
       "False"
      ]
     },
     "execution_count": 7,
     "metadata": {},
     "output_type": "execute_result"
    }
   ],
   "source": [
    "not True"
   ]
  },
  {
   "cell_type": "code",
   "execution_count": 8,
   "id": "55390b9d-104c-44a1-82e8-5069e5ab3f3d",
   "metadata": {},
   "outputs": [
    {
     "data": {
      "text/plain": [
       "True"
      ]
     },
     "execution_count": 8,
     "metadata": {},
     "output_type": "execute_result"
    }
   ],
   "source": [
    "a=5 \n",
    "b=10\n",
    "a>=5 and b<=10"
   ]
  },
  {
   "cell_type": "code",
   "execution_count": 9,
   "id": "02648717-47b0-4287-b24d-1fa2002c57f6",
   "metadata": {},
   "outputs": [
    {
     "data": {
      "text/plain": [
       "True"
      ]
     },
     "execution_count": 9,
     "metadata": {},
     "output_type": "execute_result"
    }
   ],
   "source": [
    "a>=10 or b<20"
   ]
  },
  {
   "cell_type": "code",
   "execution_count": 11,
   "id": "6e4e8ebe-34c3-4a0f-a8f5-5a4ca025ffcd",
   "metadata": {},
   "outputs": [
    {
     "name": "stdout",
     "output_type": "stream",
     "text": [
      "Se cumple\n"
     ]
    }
   ],
   "source": [
    "if True:\n",
    "    print(\"Se cumple\")"
   ]
  },
  {
   "cell_type": "code",
   "execution_count": 13,
   "id": "f587d1ba-0c60-47db-a55b-922ce60e6289",
   "metadata": {},
   "outputs": [
    {
     "name": "stdout",
     "output_type": "stream",
     "text": [
      "Vale 5\n"
     ]
    }
   ],
   "source": [
    "a=5\n",
    "if a==2:\n",
    "    print(\"Vale 2\")\n",
    "    a+=10\n",
    "if a==5:\n",
    "    print(\"Vale 5\")\n"
   ]
  },
  {
   "cell_type": "code",
   "execution_count": 15,
   "id": "f2f08657-98b7-4294-b8cb-336754ce336a",
   "metadata": {},
   "outputs": [
    {
     "name": "stdout",
     "output_type": "stream",
     "text": [
      "a vale 5\n",
      "b vale 10\n"
     ]
    }
   ],
   "source": [
    "b=10\n",
    "if a==5:\n",
    "    print(\"a vale 5\")\n",
    "    if a==20:\n",
    "        print(\"a vale 20\")\n",
    "    if b==10:\n",
    "        print(\"b vale 10\")"
   ]
  },
  {
   "cell_type": "code",
   "execution_count": 16,
   "id": "9adff212-eedb-4f62-a430-510c450826d5",
   "metadata": {},
   "outputs": [
    {
     "name": "stdout",
     "output_type": "stream",
     "text": [
      "a vale 5\n"
     ]
    }
   ],
   "source": [
    "if a==5:\n",
    "    print(\"a vale 5\")\n",
    "    if a==20:\n",
    "        print(\"a vale 20\")\n",
    "        if b==10:\n",
    "           print(\"b vale 10\")"
   ]
  },
  {
   "cell_type": "code",
   "execution_count": 20,
   "id": "855f63e5-2a9c-41ca-a7f0-3b3348948246",
   "metadata": {},
   "outputs": [
    {
     "name": "stdin",
     "output_type": "stream",
     "text": [
      "Ingrese un numero 15\n"
     ]
    },
    {
     "name": "stdout",
     "output_type": "stream",
     "text": [
      "el numero es impar\n",
      "Finalizo el programa\n"
     ]
    }
   ],
   "source": [
    "num=int(input(\"Ingrese un numero\"))\n",
    "if num%2==0:\n",
    "    print(\"el numero es par\")\n",
    "else:\n",
    "    print(\"el numero es impar\")\n",
    "print(\"Finalizo el programa\")"
   ]
  },
  {
   "cell_type": "code",
   "execution_count": 25,
   "id": "487cacd8-f692-4c7f-8fc3-2928c822b9aa",
   "metadata": {},
   "outputs": [
    {
     "name": "stdout",
     "output_type": "stream",
     "text": [
      "Pusieron cualquier cosa\n"
     ]
    }
   ],
   "source": [
    "cadena=\"PEP\"\n",
    "if cadena==\"HOLA\":\n",
    "    print(\"Te estan saludando\")\n",
    "elif cadena==\"CHAU\":\n",
    "    print(\"Se estan despidiendo\")\n",
    "else:\n",
    "    print(\"Pusieron cualquier cosa\")"
   ]
  },
  {
   "cell_type": "code",
   "execution_count": 29,
   "id": "e70395a2-f371-49a1-9e5a-af2c74d92449",
   "metadata": {},
   "outputs": [
    {
     "name": "stdin",
     "output_type": "stream",
     "text": [
      "ingrese nota 7\n"
     ]
    },
    {
     "name": "stdout",
     "output_type": "stream",
     "text": [
      "bueno\n"
     ]
    }
   ],
   "source": [
    "nota=int(input(\"ingrese nota\"))\n",
    "if nota>=9:\n",
    "    print(\"sobresaliente\")\n",
    "elif nota>=8:\n",
    "    print(\"muy bueno\")\n",
    "elif nota>=6:\n",
    "    print(\"bueno\")\n",
    "elif nota>=5:\n",
    "    print(\"regular\")\n",
    "else: \n",
    "    print(\"malo\")"
   ]
  },
  {
   "cell_type": "code",
   "execution_count": null,
   "id": "65c63306-ac40-40b6-a247-3a7ff8cb104d",
   "metadata": {},
   "outputs": [],
   "source": []
  }
 ],
 "metadata": {
  "kernelspec": {
   "display_name": "Python 3 (ipykernel)",
   "language": "python",
   "name": "python3"
  },
  "language_info": {
   "codemirror_mode": {
    "name": "ipython",
    "version": 3
   },
   "file_extension": ".py",
   "mimetype": "text/x-python",
   "name": "python",
   "nbconvert_exporter": "python",
   "pygments_lexer": "ipython3",
   "version": "3.12.2"
  }
 },
 "nbformat": 4,
 "nbformat_minor": 5
}
