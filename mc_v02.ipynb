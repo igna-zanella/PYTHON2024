{
 "cells": [
  {
   "cell_type": "code",
   "execution_count": 7,
   "id": "30dff3bf-2689-4878-a239-a4ce9d33acfb",
   "metadata": {},
   "outputs": [
    {
     "name": "stdout",
     "output_type": "stream",
     "text": [
      "\n",
      "TE DAMOS LA BIENVENIDA A MC PYTHON\n",
      "\n",
      "Combos disponibles:\n",
      "\n",
      "    1) MC Pollo con Queso $4800\n",
      "    2) MC Vegana $5500\n",
      "    3) MC Medallones lomitos $6300\n",
      "    4) MC Vegana Doble $7800\n",
      "    5) MC Tasty $9990\n",
      "    6) MC While $10750\n",
      "    7) MC Ultra Beef $12350\n",
      "\n",
      "\n"
     ]
    },
    {
     "name": "stdin",
     "output_type": "stream",
     "text": [
      "Ingresá el menú que deseás:  4\n"
     ]
    },
    {
     "name": "stdout",
     "output_type": "stream",
     "text": [
      "\n",
      "Tu combo sale $ 7800\n"
     ]
    },
    {
     "name": "stdin",
     "output_type": "stream",
     "text": [
      "\n",
      "¿Deseás mejorarlo? (sí = S / no = N) n\n"
     ]
    },
    {
     "name": "stdout",
     "output_type": "stream",
     "text": [
      "\n",
      "¡Perfecto! Vamos al pago\n",
      "\n",
      "Promo jubilados de 5%\n"
     ]
    },
    {
     "name": "stdin",
     "output_type": "stream",
     "text": [
      "¿Sos jubilado? (sí = S / no = N)  s\n"
     ]
    },
    {
     "name": "stdout",
     "output_type": "stream",
     "text": [
      "\n",
      "El precio de tu combo es $ 7410.0\n",
      "\n",
      "¿Cómo vas a pagar?\n",
      "        \n",
      "    1) EFECTIVO (10% de descuento)\n",
      "    2) TARJETA DE DÉBITO\n",
      "    3) TARJETA DE CRÉDITO\n",
      "        \n"
     ]
    },
    {
     "name": "stdin",
     "output_type": "stream",
     "text": [
      "Elegí una opción:  3\n"
     ]
    },
    {
     "name": "stdout",
     "output_type": "stream",
     "text": [
      "\n",
      "        PLAN DE CUOTAS\n",
      "        \n",
      "        1) 1 cuota (sin interés)\n",
      "        2) 2 cuotas (interés del 10%)\n",
      "        3) 3 cuotas (interés del 30%)\n",
      "        \n"
     ]
    },
    {
     "name": "stdin",
     "output_type": "stream",
     "text": [
      "Eligí el plan de cuotas:  3\n"
     ]
    },
    {
     "name": "stdout",
     "output_type": "stream",
     "text": [
      "\n",
      "El importe total es $ 9633.0\n",
      "Prepará tu tarjeta y seguí las instrucciones del posnet ¡Disfrutá tu combo!\n",
      "\n",
      "Gracias. Vuelva prontos.\n"
     ]
    }
   ],
   "source": [
    "# # MC\n",
    "# primero lista de precios\n",
    "# menu para elegir la hamburguesa\n",
    "# agrandar o no el combo\n",
    "# forma de pago si es en efectivo 10% descuento\n",
    "# si es tarjeta en cuotas que te diga las cuotas\n",
    "# si es jubilado un 5%\n",
    "# \"\"\"\n",
    "\n",
    "print(\"\"\"\n",
    "TE DAMOS LA BIENVENIDA A MC PYTHON\n",
    "\n",
    "Combos disponibles:\n",
    "\n",
    "    1) MC Pollo con Queso $4800\n",
    "    2) MC Vegana $5500\n",
    "    3) MC Medallones lomitos $6300\n",
    "    4) MC Vegana Doble $7800\n",
    "    5) MC Tasty $9990\n",
    "    6) MC While $10750\n",
    "    7) MC Ultra Beef $12350\n",
    "\n",
    "\"\"\")\n",
    "\n",
    "precios = [4800, 5500, 6300, 7800, 9990, 10750, 12350]\n",
    "preciosCombo = [1000, 600, 1800]\n",
    "\n",
    "opcion = int(input(\"Ingresá el menú que deseás: \"))\n",
    "\n",
    "if opcion > 7 or opcion < 1:\n",
    "    print(\"\\n\", opcion, \"no es una opción válida. Reintentalo.\")\n",
    "else:\n",
    "    # total = precios[opcion-1]\n",
    "    print(\"\\nTu combo sale $\", precios[opcion-1])\n",
    "\n",
    "    agrandarCombo = input(\"\\n¿Deseás mejorarlo? (sí = S / no = N)\" ).upper()\n",
    "\n",
    "    if agrandarCombo == \"S\":\n",
    "        print(\"\"\"\n",
    "            \\n¡Con estas ofertas agrandás tu COMBO!\n",
    "\n",
    "            1) Papas extra grandes - $ 1000\n",
    "            2) Gaseosa tamaño MAX - $ 600\n",
    "            3) Postre MC Super Cream - $ 1800\n",
    "            4) mmm... mejor la próxima vez.\n",
    "            \"\"\")\n",
    "        opcionCombo = int(input(\"Elegí tu opción: \"))\n",
    "        \n",
    "        if opcionCombo > 4 or opcionCombo < 1:\n",
    "            print(\"\\n\", opcionCombo, \"no es una opción válida. Reinténtelo.\")\n",
    "        elif opcionCombo == 4:\n",
    "            print(\"\\n¡No hay problema! Vamos al pago\")\n",
    "        else:\n",
    "            precios[opcion-1] += preciosCombo[opcionCombo-1]\n",
    "            print(\"\\n¡Agrandaste tu combo! Vamos al pago\")\n",
    "    elif agrandarCombo == \"N\":\n",
    "        print(\"\\n¡Perfecto! Vamos al pago\")\n",
    "    else:\n",
    "        print(\"\\nOpción no válida\")\n",
    "\n",
    "total = precios[opcion-1]\n",
    "\n",
    "\n",
    "jubilado = None\n",
    "\n",
    "while True:\n",
    "    print(\"\\nPromo jubilados de 5%\")\n",
    "    jubilado = input(\"¿Sos jubilado? (sí = S / no = N) \").upper()\n",
    "    \n",
    "    if jubilado == \"S\":\n",
    "        total = total - (total * .05)\n",
    "        break\n",
    "    elif jubilado == \"N\":\n",
    "        break\n",
    "    else:\n",
    "        print(\"opcion no valida\")\n",
    "    \n",
    "print(\"\\nEl precio de tu combo es $\", total)\n",
    "\n",
    "\n",
    "print(\"\"\"\n",
    "¿Cómo vas a pagar?\n",
    "        \n",
    "    1) EFECTIVO (10% de descuento)\n",
    "    2) TARJETA DE DÉBITO\n",
    "    3) TARJETA DE CRÉDITO\n",
    "        \"\"\")\n",
    "    \n",
    "pago = input(\"Elegí una opción: \")\n",
    "\n",
    "if pago == \"1\":\n",
    "    total = total - (total * .10)\n",
    "    print(\"\\nEl importe total con el descuento es $\", total)\n",
    "    print(\"Por favor, acercate a la caja con el ticket para finalizar tu compra ¡Disfrutá tu combo!\")\n",
    "    \n",
    "elif pago == \"2\":\n",
    "    print(\"\\nEl importe total es $\", precios[opcion-1])\n",
    "    print(\"Prepará tu tarjeta y seguí las instrucciones del posnet ¡Disfrutá tu combo!\")\n",
    "elif pago == \"3\":\n",
    "    print(\"\"\"\n",
    "        PLAN DE CUOTAS\n",
    "        \n",
    "        1) 1 cuota (sin interés)\n",
    "        2) 2 cuotas (interés del 10%)\n",
    "        3) 3 cuotas (interés del 30%)\n",
    "        \"\"\")\n",
    "    cuota = input(\"Eligí el plan de cuotas: \")\n",
    "\n",
    "    if cuota == \"1\":\n",
    "        print(\"\\nEl importe total es $\", total)\n",
    "        print(\"Prepará tu tarjeta y seguí las instrucciones del posnet ¡Disfrutá tu combo!\")\n",
    "    elif cuota == \"2\":\n",
    "        total = total + (total * .10) \n",
    "        print(\"\\nEl importe total es $\", total)\n",
    "        print(\"Prepará tu tarjeta y seguí las instrucciones del posnet ¡Disfrutá tu combo!\")\n",
    "    elif cuota == \"3\":\n",
    "        total = total + (total * .30) \n",
    "        print(\"\\nEl importe total es $\", total)\n",
    "        print(\"Prepará tu tarjeta y seguí las instrucciones del posnet ¡Disfrutá tu combo!\")\n",
    "    else:\n",
    "        print(\"Opción no válida\")\n",
    "        \n",
    "\n",
    "# print(total)\n",
    "print(\"\\nGracias. Vuelva prontos.\")"
   ]
  },
  {
   "cell_type": "code",
   "execution_count": null,
   "id": "ce7e8611-c3ce-40c2-bacf-e97387560709",
   "metadata": {},
   "outputs": [],
   "source": []
  }
 ],
 "metadata": {
  "kernelspec": {
   "display_name": "Python 3 (ipykernel)",
   "language": "python",
   "name": "python3"
  },
  "language_info": {
   "codemirror_mode": {
    "name": "ipython",
    "version": 3
   },
   "file_extension": ".py",
   "mimetype": "text/x-python",
   "name": "python",
   "nbconvert_exporter": "python",
   "pygments_lexer": "ipython3",
   "version": "3.12.2"
  }
 },
 "nbformat": 4,
 "nbformat_minor": 5
}
