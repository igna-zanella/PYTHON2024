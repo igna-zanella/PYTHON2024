{
 "cells": [
  {
   "cell_type": "code",
   "execution_count": 33,
   "id": "02f2fd23-6d65-46bf-aa8c-cfc2b25acd58",
   "metadata": {},
   "outputs": [],
   "source": [
    "lista=[1,23,5,1,4123,4,12,3]"
   ]
  },
  {
   "cell_type": "code",
   "execution_count": 4,
   "id": "97ce1ce2-9749-4837-94f8-453f0e819731",
   "metadata": {},
   "outputs": [
    {
     "name": "stdout",
     "output_type": "stream",
     "text": [
      "4123\n"
     ]
    }
   ],
   "source": [
    "print(lista[4])"
   ]
  },
  {
   "cell_type": "code",
   "execution_count": 3,
   "id": "53591baa-53f0-4a06-8023-e500e025cde1",
   "metadata": {},
   "outputs": [
    {
     "name": "stdout",
     "output_type": "stream",
     "text": [
      "5 4123 1\n"
     ]
    }
   ],
   "source": [
    "print(lista[2],lista[4],lista[3])"
   ]
  },
  {
   "cell_type": "code",
   "execution_count": 8,
   "id": "b309c2d3-f035-48c6-a53b-8de17359f4d8",
   "metadata": {},
   "outputs": [
    {
     "data": {
      "text/plain": [
       "[1, 23, 5, 1, 4123, 4, 12, 3, 1, 23, 5, 1, 4123, 4, 12, 3]"
      ]
     },
     "execution_count": 8,
     "metadata": {},
     "output_type": "execute_result"
    }
   ],
   "source": [
    "lista+lista"
   ]
  },
  {
   "cell_type": "code",
   "execution_count": 15,
   "id": "1058da4a-a102-4d7a-a06c-aaf93b75bb44",
   "metadata": {},
   "outputs": [],
   "source": [
    "lista[5]=1234"
   ]
  },
  {
   "cell_type": "code",
   "execution_count": 10,
   "id": "8000acc5-a3cd-48fd-aa1d-a2ee8f2c25fb",
   "metadata": {},
   "outputs": [
    {
     "name": "stdout",
     "output_type": "stream",
     "text": [
      "[1, 23, 5, 1, 4123, 1234, 12, 3]\n"
     ]
    }
   ],
   "source": [
    "print(lista)\n"
   ]
  },
  {
   "cell_type": "code",
   "execution_count": 16,
   "id": "16b63a4c-0f2b-4dde-b88b-01c16649fb32",
   "metadata": {},
   "outputs": [
    {
     "name": "stdout",
     "output_type": "stream",
     "text": [
      "1234\n"
     ]
    }
   ],
   "source": [
    "print(lista[5])"
   ]
  },
  {
   "cell_type": "code",
   "execution_count": 18,
   "id": "844bae24-2871-4f9d-bbfa-1ea1672aa60e",
   "metadata": {},
   "outputs": [],
   "source": [
    "l2=[]#lista vacia"
   ]
  },
  {
   "cell_type": "code",
   "execution_count": 19,
   "id": "02e7ac70-c709-403f-94e4-f931780b79b4",
   "metadata": {},
   "outputs": [
    {
     "data": {
      "text/plain": [
       "8"
      ]
     },
     "execution_count": 19,
     "metadata": {},
     "output_type": "execute_result"
    }
   ],
   "source": [
    "len(lista)"
   ]
  },
  {
   "cell_type": "code",
   "execution_count": 27,
   "id": "7c7aa6dd-cf90-4524-bf77-7ca0a192ad91",
   "metadata": {},
   "outputs": [],
   "source": [
    "a=[1,2,3,\"hola\",\"chau\",\"todobien\"]\n",
    "b=[4,5,6]\n",
    "c=[7,8,9]\n",
    "matriz=[a,b,c]"
   ]
  },
  {
   "cell_type": "code",
   "execution_count": 21,
   "id": "d54046bd-99f6-4f67-a939-2090b8131a8e",
   "metadata": {},
   "outputs": [
    {
     "data": {
      "text/plain": [
       "3"
      ]
     },
     "execution_count": 21,
     "metadata": {},
     "output_type": "execute_result"
    }
   ],
   "source": [
    "matriz[0][2]"
   ]
  },
  {
   "cell_type": "code",
   "execution_count": 22,
   "id": "c933913b-8249-4be1-93b6-8159f11e98fc",
   "metadata": {},
   "outputs": [
    {
     "data": {
      "text/plain": [
       "8"
      ]
     },
     "execution_count": 22,
     "metadata": {},
     "output_type": "execute_result"
    }
   ],
   "source": [
    "matriz[2][1]"
   ]
  },
  {
   "cell_type": "code",
   "execution_count": 23,
   "id": "a992ef8f-c49c-4fab-996e-9e10579f7d97",
   "metadata": {},
   "outputs": [
    {
     "data": {
      "text/plain": [
       "[1, 2, 3]"
      ]
     },
     "execution_count": 23,
     "metadata": {},
     "output_type": "execute_result"
    }
   ],
   "source": [
    "matriz[0]"
   ]
  },
  {
   "cell_type": "code",
   "execution_count": 29,
   "id": "4d20dc34-a6f5-4104-85df-9e6b2be71d16",
   "metadata": {},
   "outputs": [
    {
     "data": {
      "text/plain": [
       "['hola', 'chau']"
      ]
     },
     "execution_count": 29,
     "metadata": {},
     "output_type": "execute_result"
    }
   ],
   "source": [
    "matriz[0][3:5]"
   ]
  },
  {
   "cell_type": "code",
   "execution_count": 34,
   "id": "83525569-73aa-4a9e-8141-d49c9e06fe53",
   "metadata": {},
   "outputs": [],
   "source": [
    "lista.append(10)"
   ]
  },
  {
   "cell_type": "code",
   "execution_count": 35,
   "id": "47d21238-e637-461f-88da-aa76b6dadad0",
   "metadata": {},
   "outputs": [
    {
     "data": {
      "text/plain": [
       "[1, 23, 5, 1, 4123, 4, 12, 3, 10]"
      ]
     },
     "execution_count": 35,
     "metadata": {},
     "output_type": "execute_result"
    }
   ],
   "source": [
    "lista"
   ]
  },
  {
   "cell_type": "code",
   "execution_count": 32,
   "id": "a6320aed-b0cc-4684-9aff-65d627dd8c13",
   "metadata": {},
   "outputs": [],
   "source": [
    "lista.clear()#vacia la lista"
   ]
  },
  {
   "cell_type": "code",
   "execution_count": 36,
   "id": "57461b6e-bd32-49ea-9207-abe396f8d06a",
   "metadata": {},
   "outputs": [
    {
     "data": {
      "text/plain": [
       "[1, 23, 5, 1, 4123, 4, 12, 3, 10]"
      ]
     },
     "execution_count": 36,
     "metadata": {},
     "output_type": "execute_result"
    }
   ],
   "source": [
    "lista"
   ]
  },
  {
   "cell_type": "code",
   "execution_count": 37,
   "id": "c31c94b2-d07f-4d2f-b3c4-0d672148c243",
   "metadata": {},
   "outputs": [
    {
     "data": {
      "text/plain": [
       "2"
      ]
     },
     "execution_count": 37,
     "metadata": {},
     "output_type": "execute_result"
    }
   ],
   "source": [
    "lista.count(1)"
   ]
  },
  {
   "cell_type": "code",
   "execution_count": 38,
   "id": "c653159d-306d-45ba-87da-28beb87056dd",
   "metadata": {},
   "outputs": [
    {
     "data": {
      "text/plain": [
       "8"
      ]
     },
     "execution_count": 38,
     "metadata": {},
     "output_type": "execute_result"
    }
   ],
   "source": [
    "lista.index(10)"
   ]
  },
  {
   "cell_type": "code",
   "execution_count": 39,
   "id": "d72b6f9c-bfe9-4436-891c-df9dc658d42b",
   "metadata": {},
   "outputs": [],
   "source": [
    "lista.insert(5,88)#en la posicion 5 inserta el 88"
   ]
  },
  {
   "cell_type": "code",
   "execution_count": 40,
   "id": "b36c7e7b-3312-40ca-92ac-183af152e10d",
   "metadata": {},
   "outputs": [
    {
     "data": {
      "text/plain": [
       "[1, 23, 5, 1, 4123, 88, 4, 12, 3, 10]"
      ]
     },
     "execution_count": 40,
     "metadata": {},
     "output_type": "execute_result"
    }
   ],
   "source": [
    "lista"
   ]
  },
  {
   "cell_type": "code",
   "execution_count": 41,
   "id": "df673b76-29b0-42e5-ae0c-dc8159f8c7d5",
   "metadata": {},
   "outputs": [
    {
     "data": {
      "text/plain": [
       "10"
      ]
     },
     "execution_count": 41,
     "metadata": {},
     "output_type": "execute_result"
    }
   ],
   "source": [
    "lista.pop()"
   ]
  },
  {
   "cell_type": "code",
   "execution_count": 42,
   "id": "21a9d00b-1a4f-4660-b29b-7b0f5e047799",
   "metadata": {},
   "outputs": [
    {
     "data": {
      "text/plain": [
       "[1, 23, 5, 1, 4123, 88, 4, 12, 3]"
      ]
     },
     "execution_count": 42,
     "metadata": {},
     "output_type": "execute_result"
    }
   ],
   "source": [
    "lista"
   ]
  },
  {
   "cell_type": "code",
   "execution_count": 43,
   "id": "453c11e5-9600-42bb-8da7-c267b3246657",
   "metadata": {},
   "outputs": [
    {
     "data": {
      "text/plain": [
       "88"
      ]
     },
     "execution_count": 43,
     "metadata": {},
     "output_type": "execute_result"
    }
   ],
   "source": [
    "lista.pop(5)"
   ]
  },
  {
   "cell_type": "code",
   "execution_count": 44,
   "id": "b7f5a773-cea1-47a0-8d64-28d9fe40d387",
   "metadata": {},
   "outputs": [],
   "source": [
    "lista.remove(1)"
   ]
  },
  {
   "cell_type": "code",
   "execution_count": 45,
   "id": "0e50762f-464a-4a08-8773-ebf83c9271d6",
   "metadata": {},
   "outputs": [
    {
     "data": {
      "text/plain": [
       "[23, 5, 1, 4123, 4, 12, 3]"
      ]
     },
     "execution_count": 45,
     "metadata": {},
     "output_type": "execute_result"
    }
   ],
   "source": [
    "lista"
   ]
  },
  {
   "cell_type": "code",
   "execution_count": 46,
   "id": "8fca13f6-5e3c-4d3c-ba6e-1464d849792a",
   "metadata": {},
   "outputs": [],
   "source": [
    "lista.reverse()"
   ]
  },
  {
   "cell_type": "code",
   "execution_count": 47,
   "id": "aa2c377a-3210-4da5-b080-1a9284ffec4b",
   "metadata": {},
   "outputs": [
    {
     "data": {
      "text/plain": [
       "[3, 12, 4, 4123, 1, 5, 23]"
      ]
     },
     "execution_count": 47,
     "metadata": {},
     "output_type": "execute_result"
    }
   ],
   "source": [
    "lista"
   ]
  },
  {
   "cell_type": "code",
   "execution_count": 48,
   "id": "bc734cec-ea4c-450c-bca3-f59e24324719",
   "metadata": {},
   "outputs": [],
   "source": [
    "lista.sort()"
   ]
  },
  {
   "cell_type": "code",
   "execution_count": 49,
   "id": "2185fe0d-6a77-492c-aa01-56776fd3a250",
   "metadata": {},
   "outputs": [
    {
     "data": {
      "text/plain": [
       "[1, 3, 4, 5, 12, 23, 4123]"
      ]
     },
     "execution_count": 49,
     "metadata": {},
     "output_type": "execute_result"
    }
   ],
   "source": [
    "lista"
   ]
  },
  {
   "cell_type": "code",
   "execution_count": 50,
   "id": "edf78b9d-2a64-4b67-932a-9373aef9a06e",
   "metadata": {},
   "outputs": [],
   "source": [
    "lista.sort(reverse=True)"
   ]
  },
  {
   "cell_type": "code",
   "execution_count": 51,
   "id": "e603de5e-7222-4067-9878-1a43168f7644",
   "metadata": {},
   "outputs": [
    {
     "data": {
      "text/plain": [
       "[4123, 23, 12, 5, 4, 3, 1]"
      ]
     },
     "execution_count": 51,
     "metadata": {},
     "output_type": "execute_result"
    }
   ],
   "source": [
    "lista"
   ]
  },
  {
   "cell_type": "code",
   "execution_count": 53,
   "id": "4bd623cc-c916-456e-b0df-43b2feaafc20",
   "metadata": {},
   "outputs": [
    {
     "name": "stdout",
     "output_type": "stream",
     "text": [
      "4171\n"
     ]
    }
   ],
   "source": [
    "print(sum(lista))"
   ]
  },
  {
   "cell_type": "code",
   "execution_count": 54,
   "id": "d9979c1c-7799-4797-bcac-d95b666cf945",
   "metadata": {},
   "outputs": [
    {
     "name": "stdout",
     "output_type": "stream",
     "text": [
      "6\n"
     ]
    }
   ],
   "source": [
    "print(sum(a[0:3]))"
   ]
  },
  {
   "cell_type": "code",
   "execution_count": null,
   "id": "9474a15b-1879-4c9b-9d9f-684cbf0f9fd1",
   "metadata": {},
   "outputs": [],
   "source": []
  }
 ],
 "metadata": {
  "kernelspec": {
   "display_name": "Python 3 (ipykernel)",
   "language": "python",
   "name": "python3"
  },
  "language_info": {
   "codemirror_mode": {
    "name": "ipython",
    "version": 3
   },
   "file_extension": ".py",
   "mimetype": "text/x-python",
   "name": "python",
   "nbconvert_exporter": "python",
   "pygments_lexer": "ipython3",
   "version": "3.12.2"
  }
 },
 "nbformat": 4,
 "nbformat_minor": 5
}
