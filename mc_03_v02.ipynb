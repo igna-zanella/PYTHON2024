{
 "cells": [
  {
   "cell_type": "code",
   "execution_count": 29,
   "id": "408058fc-9d91-4ced-81e2-2893491dd3b5",
   "metadata": {},
   "outputs": [
    {
     "name": "stdout",
     "output_type": "stream",
     "text": [
      "\u001b[33m\n",
      "    TE DAMOS LA BIENVENIDA A MC PYTHON 😍\n",
      "\n",
      "    Combos disponibles:\n",
      "\n",
      "        ╔═════════════════════════════════════╗\n",
      "        ║                                     ║\n",
      "        ║  1) MC Pollo con Queso_____ $4800   ║\n",
      "        ║  2) MC Vegana______________ $5500   ║\n",
      "        ║  3) MC Medallones lomitos__ $6300   ║\n",
      "        ║  4) MC Vegana Doble________ $7800   ║\n",
      "        ║  5) MC Tasty_______________ $9990   ║\n",
      "        ║  6) MC While______________ $10750   ║\n",
      "        ║  7) MC Ultra Beef_________ $12350   ║\n",
      "        ║  0) SALIR                           ║\n",
      "        ║                                     ║\n",
      "        ╚═════════════════════════════════════╝  \n",
      "\n",
      "    \u001b[0m\n"
     ]
    },
    {
     "name": "stdin",
     "output_type": "stream",
     "text": [
      "Ingresá el menú que deseás:  4\n"
     ]
    },
    {
     "name": "stdout",
     "output_type": "stream",
     "text": [
      "\n",
      "Tu combo sale \u001b[32m$7800\u001b[0m\n",
      "\u001b[33m\n",
      "        \n",
      "¡Con estas ofertas agrandás tu COMBO! 😊\n",
      "\n",
      "        ╔═════════════════════════════════════════╗\n",
      "        ║                                         ║\n",
      "        ║  1) Papas extra grandes________ $1250   ║\n",
      "        ║  2) Gaseosa tamaño MAX__________ $690   ║\n",
      "        ║  3) Postre MC Super Cream______ $1830   ║\n",
      "        ║  4) mmm... mejor la próxima vez         ║\n",
      "        ║                                         ║\n",
      "        ╚═════════════════════════════════════════╝\n",
      "\n",
      "        \u001b[0m\n"
     ]
    },
    {
     "name": "stdin",
     "output_type": "stream",
     "text": [
      "Elegí tu opción:  555\n"
     ]
    },
    {
     "name": "stdout",
     "output_type": "stream",
     "text": [
      "\u001b[31m\n",
      " 555 no es una opción válida. Reintentalo.  🤷‍♀️\u001b[0m\n",
      "\u001b[33m\n",
      "        \n",
      "¡Con estas ofertas agrandás tu COMBO! 😊\n",
      "\n",
      "        ╔═════════════════════════════════════════╗\n",
      "        ║                                         ║\n",
      "        ║  1) Papas extra grandes________ $1250   ║\n",
      "        ║  2) Gaseosa tamaño MAX__________ $690   ║\n",
      "        ║  3) Postre MC Super Cream______ $1830   ║\n",
      "        ║  4) mmm... mejor la próxima vez         ║\n",
      "        ║                                         ║\n",
      "        ╚═════════════════════════════════════════╝\n",
      "\n",
      "        \u001b[0m\n"
     ]
    },
    {
     "name": "stdin",
     "output_type": "stream",
     "text": [
      "Elegí tu opción:  5\n"
     ]
    },
    {
     "name": "stdout",
     "output_type": "stream",
     "text": [
      "\u001b[31m\n",
      " 5 no es una opción válida. Reintentalo.  🤷‍♀️\u001b[0m\n",
      "\u001b[33m\n",
      "        \n",
      "¡Con estas ofertas agrandás tu COMBO! 😊\n",
      "\n",
      "        ╔═════════════════════════════════════════╗\n",
      "        ║                                         ║\n",
      "        ║  1) Papas extra grandes________ $1250   ║\n",
      "        ║  2) Gaseosa tamaño MAX__________ $690   ║\n",
      "        ║  3) Postre MC Super Cream______ $1830   ║\n",
      "        ║  4) mmm... mejor la próxima vez         ║\n",
      "        ║                                         ║\n",
      "        ╚═════════════════════════════════════════╝\n",
      "\n",
      "        \u001b[0m\n"
     ]
    },
    {
     "name": "stdin",
     "output_type": "stream",
     "text": [
      "Elegí tu opción:  4\n"
     ]
    },
    {
     "name": "stdout",
     "output_type": "stream",
     "text": [
      "\n",
      "¡No hay problema! Vamos al pago\n",
      "\u001b[33m\n",
      "¡Promo jubilados/as! 👵 Descuento del 5% 👴\u001b[0m\n"
     ]
    },
    {
     "name": "stdin",
     "output_type": "stream",
     "text": [
      "¿Sos jubilado/a? (S = sí / N = no)  jj\n"
     ]
    },
    {
     "name": "stdout",
     "output_type": "stream",
     "text": [
      "\u001b[31m\n",
      "Opción no válida\u001b[0m\n",
      "\u001b[33m\n",
      "¡Promo jubilados/as! 👵 Descuento del 5% 👴\u001b[0m\n"
     ]
    },
    {
     "name": "stdin",
     "output_type": "stream",
     "text": [
      "¿Sos jubilado/a? (S = sí / N = no)  ll\n"
     ]
    },
    {
     "name": "stdout",
     "output_type": "stream",
     "text": [
      "\u001b[31m\n",
      "Opción no válida\u001b[0m\n",
      "\u001b[33m\n",
      "¡Promo jubilados/as! 👵 Descuento del 5% 👴\u001b[0m\n"
     ]
    },
    {
     "name": "stdin",
     "output_type": "stream",
     "text": [
      "¿Sos jubilado/a? (S = sí / N = no)  s\n"
     ]
    },
    {
     "name": "stdout",
     "output_type": "stream",
     "text": [
      "\n",
      "El precio final de tu combo es \u001b[32m$7410.0\u001b[0m\n",
      "\u001b[33m\n",
      "            ¿Cómo vas a pagar? 💵\n",
      "        \n",
      "            ╔═══════════════════════════════════╗\n",
      "            ║                                   ║\n",
      "            ║  1) EFECTIVO (10% de descuento)   ║\n",
      "            ║  2) TARJETA DE DÉBITO             ║\n",
      "            ║  3) TARJETA DE CRÉDITO            ║\n",
      "            ║                                   ║\n",
      "            ╚═══════════════════════════════════╝            \n",
      "        \n",
      "                    \u001b[0m\n"
     ]
    },
    {
     "name": "stdin",
     "output_type": "stream",
     "text": [
      "Elegí una opción:  44\n"
     ]
    },
    {
     "name": "stdout",
     "output_type": "stream",
     "text": [
      "\u001b[31m\n",
      "Opción no válida 🤷‍♀️\u001b[0m\n",
      "\u001b[33m\n",
      "            ¿Cómo vas a pagar? 💵\n",
      "        \n",
      "            ╔═══════════════════════════════════╗\n",
      "            ║                                   ║\n",
      "            ║  1) EFECTIVO (10% de descuento)   ║\n",
      "            ║  2) TARJETA DE DÉBITO             ║\n",
      "            ║  3) TARJETA DE CRÉDITO            ║\n",
      "            ║                                   ║\n",
      "            ╚═══════════════════════════════════╝            \n",
      "        \n",
      "                    \u001b[0m\n"
     ]
    },
    {
     "name": "stdin",
     "output_type": "stream",
     "text": [
      "Elegí una opción:  44\n"
     ]
    },
    {
     "name": "stdout",
     "output_type": "stream",
     "text": [
      "\u001b[31m\n",
      "Opción no válida 🤷‍♀️\u001b[0m\n",
      "\u001b[33m\n",
      "            ¿Cómo vas a pagar? 💵\n",
      "        \n",
      "            ╔═══════════════════════════════════╗\n",
      "            ║                                   ║\n",
      "            ║  1) EFECTIVO (10% de descuento)   ║\n",
      "            ║  2) TARJETA DE DÉBITO             ║\n",
      "            ║  3) TARJETA DE CRÉDITO            ║\n",
      "            ║                                   ║\n",
      "            ╚═══════════════════════════════════╝            \n",
      "        \n",
      "                    \u001b[0m\n"
     ]
    },
    {
     "name": "stdin",
     "output_type": "stream",
     "text": [
      "Elegí una opción:  3\n"
     ]
    },
    {
     "name": "stdout",
     "output_type": "stream",
     "text": [
      "\u001b[33m\n",
      "            ╔═══════════════════════════════════╗\n",
      "            ║                                   ║\n",
      "            ║         PLAN DE CUOTAS            ║\n",
      "            ║                                   ║\n",
      "            ║  1) 1 cuota (sin interés)         ║\n",
      "            ║  2) 2 cuotas (interés del 25%)    ║\n",
      "            ║  3) 3 cuotas (interés del 35%)    ║\n",
      "            ║                                   ║\n",
      "            ╚═══════════════════════════════════╝ \n",
      "                        \n",
      "                        \u001b[0m\n"
     ]
    },
    {
     "name": "stdin",
     "output_type": "stream",
     "text": [
      "Elegí la cantidad de cuotas:  55\n"
     ]
    },
    {
     "name": "stdout",
     "output_type": "stream",
     "text": [
      "\u001b[31m\n",
      "Opción no válida 🤷‍♀️\u001b[0m\n",
      "\u001b[33m\n",
      "            ╔═══════════════════════════════════╗\n",
      "            ║                                   ║\n",
      "            ║         PLAN DE CUOTAS            ║\n",
      "            ║                                   ║\n",
      "            ║  1) 1 cuota (sin interés)         ║\n",
      "            ║  2) 2 cuotas (interés del 25%)    ║\n",
      "            ║  3) 3 cuotas (interés del 35%)    ║\n",
      "            ║                                   ║\n",
      "            ╚═══════════════════════════════════╝ \n",
      "                        \n",
      "                        \u001b[0m\n"
     ]
    },
    {
     "name": "stdin",
     "output_type": "stream",
     "text": [
      "Elegí la cantidad de cuotas:  55\n"
     ]
    },
    {
     "name": "stdout",
     "output_type": "stream",
     "text": [
      "\u001b[31m\n",
      "Opción no válida 🤷‍♀️\u001b[0m\n",
      "\u001b[33m\n",
      "            ╔═══════════════════════════════════╗\n",
      "            ║                                   ║\n",
      "            ║         PLAN DE CUOTAS            ║\n",
      "            ║                                   ║\n",
      "            ║  1) 1 cuota (sin interés)         ║\n",
      "            ║  2) 2 cuotas (interés del 25%)    ║\n",
      "            ║  3) 3 cuotas (interés del 35%)    ║\n",
      "            ║                                   ║\n",
      "            ╚═══════════════════════════════════╝ \n",
      "                        \n",
      "                        \u001b[0m\n"
     ]
    },
    {
     "name": "stdin",
     "output_type": "stream",
     "text": [
      "Elegí la cantidad de cuotas:  3\n"
     ]
    },
    {
     "name": "stdout",
     "output_type": "stream",
     "text": [
      "\n",
      "El importe total es \u001b[32m$10003.5\u001b[0m en 3 cuotas de \u001b[32m$\u001b[32m3334.5\u001b[0m\n",
      "\u001b[33mPrepará tu tarjeta y seguí las instrucciones del posnet ¡Disfrutá tu combo!\u001b[0m\n",
      "\u001b[33m\n",
      "¡Gracias por elegirnos! 👍\u001b[0m\n"
     ]
    }
   ],
   "source": [
    "while True:\n",
    "    print('\\033[33m' + \"\"\"\n",
    "    TE DAMOS LA BIENVENIDA A MC PYTHON 😍\n",
    "\n",
    "    Combos disponibles:\n",
    "\n",
    "        ╔═════════════════════════════════════╗\n",
    "        ║                                     ║\n",
    "        ║  1) MC Pollo con Queso_____ $4800   ║\n",
    "        ║  2) MC Vegana______________ $5500   ║\n",
    "        ║  3) MC Medallones lomitos__ $6300   ║\n",
    "        ║  4) MC Vegana Doble________ $7800   ║\n",
    "        ║  5) MC Tasty_______________ $9990   ║\n",
    "        ║  6) MC While______________ $10750   ║\n",
    "        ║  7) MC Ultra Beef_________ $12350   ║\n",
    "        ║  0) SALIR                           ║\n",
    "        ║                                     ║\n",
    "        ╚═════════════════════════════════════╝  \n",
    "\n",
    "    \"\"\" + '\\033[0m')\n",
    "\n",
    "    precios = [4800, 5500, 6300, 7800, 9990, 10750, 12350]\n",
    "    preciosCombo = [1250, 690, 1830]\n",
    "\n",
    "    opcion = input(\"Ingresá el menú que deseás: \")\n",
    "\n",
    "    if opcion == \"0\":\n",
    "        print('\\033[33m' + \"\\n¡Te esperamos pronto! 🍔\" + '\\033[0m')\n",
    "        break\n",
    "    elif opcion.isalpha() or int(opcion) > 7 or int(opcion) < 1:\n",
    "        print('\\033[31m' + \"\\n\", opcion, \"no es una opción válida. Reintentalo. 🤷‍♀️\" + '\\033[0m')\n",
    "    else:\n",
    "        # total = precios[opcion-1]\n",
    "        # print(\"\\nTu combo sale $\" , precios[int(opcion-1)])\n",
    "        print(\"\\nTu combo sale \" + '\\033[32m' + \"$\" + str(precios[int(opcion)-1]) + '\\033[0m')\n",
    "        \n",
    "        while True:\n",
    "            print('\\033[33m' + \"\"\"\n",
    "        \\n¡Con estas ofertas agrandás tu COMBO! 😊\n",
    "\n",
    "        ╔═════════════════════════════════════════╗\n",
    "        ║                                         ║\n",
    "        ║  1) Papas extra grandes________ $1250   ║\n",
    "        ║  2) Gaseosa tamaño MAX__________ $690   ║\n",
    "        ║  3) Postre MC Super Cream______ $1830   ║\n",
    "        ║  4) mmm... mejor la próxima vez         ║\n",
    "        ║                                         ║\n",
    "        ╚═════════════════════════════════════════╝\n",
    "\n",
    "        \"\"\" + '\\033[0m')\n",
    "            opcionCombo = input(\"Elegí tu opción: \")\n",
    "            \n",
    "            if opcionCombo == \"4\":\n",
    "                print(\"\\n¡No hay problema! Vamos al pago\")\n",
    "                break\n",
    "            elif opcionCombo.isalpha() or int(opcionCombo) > 4 or int(opcionCombo) < 1:\n",
    "                print('\\033[31m' + \"\\n\", opcionCombo, \"no es una opción válida. Reintentalo.  🤷‍♀️\" + '\\033[0m')\n",
    "            else:\n",
    "                precios[int(opcion)-1] += preciosCombo[int(opcionCombo)-1]\n",
    "                print(\"\\n¡Agrandaste tu combo! Vamos al pago 👌\")\n",
    "                print(\"Hasta acá pagás \" + '\\033[32m' + \"$\" + str(precios[int(opcion)-1]) + '\\033[0m')\n",
    "                break\n",
    "        #break\n",
    "\n",
    "        total = precios[int(opcion)-1]\n",
    "        # jubilado = None\n",
    "       \n",
    "        \n",
    "        while True:\n",
    "            print('\\033[33m' + \"\\n¡Promo jubilados/as! 👵 Descuento del 5% 👴\" + '\\033[0m')\n",
    "            jubilado = input(\"¿Sos jubilado/a? (S = sí / N = no) \").upper()\n",
    "            \n",
    "            if jubilado == \"S\":\n",
    "                total = total - (total * .05)\n",
    "                break\n",
    "            elif jubilado == \"N\":\n",
    "                break\n",
    "            else:\n",
    "                print('\\033[31m' + \"\\nOpción no válida\" + '\\033[0m')\n",
    "            \n",
    "        print(\"\\nEl precio final de tu combo es \" + '\\033[32m' + \"$\" + str(total) + '\\033[0m')\n",
    "        \n",
    "        \n",
    "        while True:    \n",
    "            print('\\033[33m' + \"\"\"\n",
    "            ¿Cómo vas a pagar? 💵\n",
    "        \n",
    "            ╔═══════════════════════════════════╗\n",
    "            ║                                   ║\n",
    "            ║  1) EFECTIVO (10% de descuento)   ║\n",
    "            ║  2) TARJETA DE DÉBITO             ║\n",
    "            ║  3) TARJETA DE CRÉDITO            ║\n",
    "            ║                                   ║\n",
    "            ╚═══════════════════════════════════╝            \n",
    "        \n",
    "                    \"\"\" + '\\033[0m')\n",
    "        \n",
    "            pago = input(\"Elegí una opción: \")\n",
    "        \n",
    "            if pago == \"1\":\n",
    "                total = total - (total * .10)\n",
    "                # print(\"\\nEl importe total con el descuento es $\", total)\n",
    "                print(\"\\nEl importe total con el descuento es \" + '\\033[32m' + \"$\" + str(total) + '\\033[0m')\n",
    "                print('\\033[33m' + \"Por favor, acercate a la caja con el ticket para finalizar la compra ¡Disfrutá tu combo!\" + '\\033[0m')\n",
    "                break\n",
    "            elif pago == \"2\":\n",
    "                print(\"\\nEl importe total es \" + '\\033[32m' + \"$\" + str(total) + '\\033[0m')\n",
    "                print('\\033[33m' + \"Prepará tu tarjeta y seguí las instrucciones del posnet ¡Disfrutá tu combo!\" + '\\033[0m')\n",
    "                break\n",
    "            elif pago == \"3\":\n",
    "               \n",
    "                while True:\n",
    "                    print('\\033[33m' + \"\"\"\n",
    "            ╔═══════════════════════════════════╗\n",
    "            ║                                   ║\n",
    "            ║         PLAN DE CUOTAS            ║\n",
    "            ║                                   ║\n",
    "            ║  1) 1 cuota (sin interés)         ║\n",
    "            ║  2) 2 cuotas (interés del 25%)    ║\n",
    "            ║  3) 3 cuotas (interés del 35%)    ║\n",
    "            ║                                   ║\n",
    "            ╚═══════════════════════════════════╝ \n",
    "                        \n",
    "                        \"\"\" + '\\033[0m')\n",
    "                    cuota = input(\"Elegí la cantidad de cuotas: \")\n",
    "        \n",
    "                    if cuota == \"1\":\n",
    "                        print(\"\\nEl importe total es \" + '\\033[32m' + \"$\" + str(total) + '\\033[0m')\n",
    "                        # c = False\n",
    "                        break\n",
    "                    elif cuota == \"2\":\n",
    "                        total = total + (total * .25) \n",
    "                        # print(\"\\nEl importe total es $\", '\\033[32m' + str(total) + '\\033[0m', \"en 2 cuotas de $\", '\\033[32m' + str(round(total/2, 2)) + '\\033[0m')\n",
    "                        print(\"\\nEl importe total es \" + '\\033[32m' + \"$\" + str(round(total,2)) + '\\033[0m', \"en 2 cuotas de \" + '\\033[32m' + \"$\" + '\\033[32m' + str(round(total/2, 2)) + '\\033[0m')\n",
    "                        # c = False\n",
    "                        break\n",
    "                    elif cuota == \"3\":\n",
    "                        total = total + (total * .35) \n",
    "                        print(\"\\nEl importe total es \" + '\\033[32m' + \"$\" + str(round(total,2)) + '\\033[0m', \"en 3 cuotas de \" + '\\033[32m' + \"$\" + '\\033[32m' + str(round(total/3, 2)) + '\\033[0m')\n",
    "                        # c = False\n",
    "                        break\n",
    "                    else:\n",
    "                        print('\\033[31m' + \"\\nOpción no válida 🤷‍♀️\" + '\\033[0m')\n",
    "                print('\\033[33m' + \"Prepará tu tarjeta y seguí las instrucciones del posnet ¡Disfrutá tu combo!\" + '\\033[0m')\n",
    "                break\n",
    "            else:\n",
    "                print('\\033[31m' + \"\\nOpción no válida 🤷‍♀️\" + '\\033[0m')\n",
    "                    \n",
    "        break\n",
    "print('\\033[33m' + \"\\n¡Gracias por elegirnos! 👍\" + '\\033[0m')"
   ]
  },
  {
   "cell_type": "code",
   "execution_count": null,
   "id": "7c8e1134-be37-404f-84c8-5977d2df5fd6",
   "metadata": {},
   "outputs": [],
   "source": []
  }
 ],
 "metadata": {
  "kernelspec": {
   "display_name": "Python 3 (ipykernel)",
   "language": "python",
   "name": "python3"
  },
  "language_info": {
   "codemirror_mode": {
    "name": "ipython",
    "version": 3
   },
   "file_extension": ".py",
   "mimetype": "text/x-python",
   "name": "python",
   "nbconvert_exporter": "python",
   "pygments_lexer": "ipython3",
   "version": "3.12.2"
  }
 },
 "nbformat": 4,
 "nbformat_minor": 5
}
