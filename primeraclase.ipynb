{
 "cells": [
  {
   "cell_type": "code",
   "execution_count": 1,
   "id": "d25c554f-e3ce-4596-af4e-267bdc366306",
   "metadata": {},
   "outputs": [
    {
     "data": {
      "text/plain": [
       "5"
      ]
     },
     "execution_count": 1,
     "metadata": {},
     "output_type": "execute_result"
    }
   ],
   "source": [
    "3+2"
   ]
  },
  {
   "cell_type": "code",
   "execution_count": 2,
   "id": "fc435c45-254e-4421-8bd6-3e23b2ba2bd4",
   "metadata": {},
   "outputs": [
    {
     "data": {
      "text/plain": [
       "1"
      ]
     },
     "execution_count": 2,
     "metadata": {},
     "output_type": "execute_result"
    }
   ],
   "source": [
    "3-2"
   ]
  },
  {
   "cell_type": "code",
   "execution_count": 3,
   "id": "b5e82c3b-4bdf-41e9-98be-7358ecd0c6cb",
   "metadata": {},
   "outputs": [
    {
     "data": {
      "text/plain": [
       "1.6666666666666667"
      ]
     },
     "execution_count": 3,
     "metadata": {},
     "output_type": "execute_result"
    }
   ],
   "source": [
    "5/3"
   ]
  },
  {
   "cell_type": "code",
   "execution_count": 4,
   "id": "1bf6404d-953f-490e-b341-3bbfb82304dd",
   "metadata": {},
   "outputs": [
    {
     "data": {
      "text/plain": [
       "15"
      ]
     },
     "execution_count": 4,
     "metadata": {},
     "output_type": "execute_result"
    }
   ],
   "source": [
    "5*3"
   ]
  },
  {
   "cell_type": "code",
   "execution_count": 5,
   "id": "7d043ce3-b9a3-493e-9aea-d7eb9a25f60f",
   "metadata": {},
   "outputs": [
    {
     "data": {
      "text/plain": [
       "25"
      ]
     },
     "execution_count": 5,
     "metadata": {},
     "output_type": "execute_result"
    }
   ],
   "source": [
    "5**2"
   ]
  },
  {
   "cell_type": "code",
   "execution_count": 6,
   "id": "89710aa9-6d85-4cab-93be-82e5a857a505",
   "metadata": {},
   "outputs": [
    {
     "data": {
      "text/plain": [
       "2"
      ]
     },
     "execution_count": 6,
     "metadata": {},
     "output_type": "execute_result"
    }
   ],
   "source": [
    "5//2"
   ]
  },
  {
   "cell_type": "code",
   "execution_count": 7,
   "id": "c45ba32b-ee1b-4831-9e47-805dbd51081b",
   "metadata": {},
   "outputs": [
    {
     "data": {
      "text/plain": [
       "1"
      ]
     },
     "execution_count": 7,
     "metadata": {},
     "output_type": "execute_result"
    }
   ],
   "source": [
    "5%2"
   ]
  },
  {
   "cell_type": "code",
   "execution_count": 8,
   "id": "86525c58-2461-4da8-9c3a-cf97da990582",
   "metadata": {},
   "outputs": [
    {
     "ename": "TypeError",
     "evalue": "can only concatenate str (not \"int\") to str",
     "output_type": "error",
     "traceback": [
      "\u001b[1;31m----------------------------------------------\u001b[0m",
      "\u001b[1;31mTypeError\u001b[0m    Traceback (most recent call last)",
      "Cell \u001b[1;32mIn[8], line 1\u001b[0m\n\u001b[1;32m----> 1\u001b[0m \u001b[38;5;124;43m\"\u001b[39;49m\u001b[38;5;124;43m5\u001b[39;49m\u001b[38;5;124;43m\"\u001b[39;49m\u001b[38;5;241;43m+\u001b[39;49m\u001b[38;5;241;43m2\u001b[39;49m\n",
      "\u001b[1;31mTypeError\u001b[0m: can only concatenate str (not \"int\") to str"
     ]
    }
   ],
   "source": [
    "\"5\"+2"
   ]
  },
  {
   "cell_type": "code",
   "execution_count": 2,
   "id": "95fd4c4c-93a3-49ff-83b2-c9a24bc42aff",
   "metadata": {},
   "outputs": [],
   "source": [
    "n=5"
   ]
  },
  {
   "cell_type": "code",
   "execution_count": 3,
   "id": "517171dd-6813-4266-909d-c4fe226b5c38",
   "metadata": {},
   "outputs": [
    {
     "data": {
      "text/plain": [
       "5"
      ]
     },
     "execution_count": 3,
     "metadata": {},
     "output_type": "execute_result"
    }
   ],
   "source": [
    "n"
   ]
  },
  {
   "cell_type": "code",
   "execution_count": 11,
   "id": "019f624d-285a-4b6b-842b-51ae129fa2f6",
   "metadata": {},
   "outputs": [
    {
     "data": {
      "text/plain": [
       "25"
      ]
     },
     "execution_count": 11,
     "metadata": {},
     "output_type": "execute_result"
    }
   ],
   "source": [
    "n*n"
   ]
  },
  {
   "cell_type": "code",
   "execution_count": 12,
   "id": "79787d24-c495-4acb-9bef-ed1795917c7f",
   "metadata": {},
   "outputs": [
    {
     "data": {
      "text/plain": [
       "10"
      ]
     },
     "execution_count": 12,
     "metadata": {},
     "output_type": "execute_result"
    }
   ],
   "source": [
    "n+5"
   ]
  },
  {
   "cell_type": "code",
   "execution_count": 13,
   "id": "4a98b23b-b485-41fe-8bab-aeed26be7139",
   "metadata": {},
   "outputs": [],
   "source": [
    "nota=8\n",
    "nota2=5\n",
    "total=(nota+nota2)/2"
   ]
  },
  {
   "cell_type": "code",
   "execution_count": 14,
   "id": "32be6ffe-fba5-4ed4-8d5c-7a509d156dab",
   "metadata": {},
   "outputs": [
    {
     "data": {
      "text/plain": [
       "6.5"
      ]
     },
     "execution_count": 14,
     "metadata": {},
     "output_type": "execute_result"
    }
   ],
   "source": [
    "total"
   ]
  },
  {
   "cell_type": "code",
   "execution_count": 15,
   "id": "6fcbd225-d93a-40ce-b8e5-7fe2ab1a6e48",
   "metadata": {},
   "outputs": [],
   "source": [
    "n,m=10,7\n"
   ]
  },
  {
   "cell_type": "code",
   "execution_count": 16,
   "id": "dae56a77-b4d8-47fb-9211-07287928774d",
   "metadata": {},
   "outputs": [
    {
     "data": {
      "text/plain": [
       "10"
      ]
     },
     "execution_count": 16,
     "metadata": {},
     "output_type": "execute_result"
    }
   ],
   "source": [
    "n\n"
   ]
  },
  {
   "cell_type": "code",
   "execution_count": 17,
   "id": "b67805bf-0816-4f7c-bb06-a674059a4021",
   "metadata": {},
   "outputs": [
    {
     "data": {
      "text/plain": [
       "7"
      ]
     },
     "execution_count": 17,
     "metadata": {},
     "output_type": "execute_result"
    }
   ],
   "source": [
    "m"
   ]
  },
  {
   "cell_type": "code",
   "execution_count": 18,
   "id": "12c0bd91-0e0d-4696-beac-fad82c1693b8",
   "metadata": {},
   "outputs": [],
   "source": [
    "n=m+5"
   ]
  },
  {
   "cell_type": "code",
   "execution_count": 19,
   "id": "762d1409-b9ac-4021-b7b9-3025d1cfe436",
   "metadata": {},
   "outputs": [
    {
     "data": {
      "text/plain": [
       "12"
      ]
     },
     "execution_count": 19,
     "metadata": {},
     "output_type": "execute_result"
    }
   ],
   "source": [
    "n"
   ]
  },
  {
   "cell_type": "code",
   "execution_count": 20,
   "id": "a24c90d3-dec9-49bb-a9cc-33e637675290",
   "metadata": {},
   "outputs": [
    {
     "data": {
      "text/plain": [
       "'Hola mundo'"
      ]
     },
     "execution_count": 20,
     "metadata": {},
     "output_type": "execute_result"
    }
   ],
   "source": [
    "'Hola mundo'"
   ]
  },
  {
   "cell_type": "code",
   "execution_count": 21,
   "id": "6e60c427-b27a-4b48-87e4-82ecff9f9498",
   "metadata": {},
   "outputs": [
    {
     "data": {
      "text/plain": [
       "'Hola mundo'"
      ]
     },
     "execution_count": 21,
     "metadata": {},
     "output_type": "execute_result"
    }
   ],
   "source": [
    "\"Hola mundo\""
   ]
  },
  {
   "cell_type": "code",
   "execution_count": 23,
   "id": "85a4a6c3-0748-40ac-b7c5-f772392cc73b",
   "metadata": {},
   "outputs": [],
   "source": [
    "n=\"5\""
   ]
  },
  {
   "cell_type": "code",
   "execution_count": 24,
   "id": "47a68613-355e-46fb-9cbc-de28eb468421",
   "metadata": {},
   "outputs": [
    {
     "data": {
      "text/plain": [
       "str"
      ]
     },
     "execution_count": 24,
     "metadata": {},
     "output_type": "execute_result"
    }
   ],
   "source": [
    "type(n)"
   ]
  },
  {
   "cell_type": "code",
   "execution_count": 25,
   "id": "6e355a5a-6b18-4e29-b285-1aa79b8567a7",
   "metadata": {},
   "outputs": [
    {
     "data": {
      "text/plain": [
       "\"Hola esto tiene comillas simples '' \""
      ]
     },
     "execution_count": 25,
     "metadata": {},
     "output_type": "execute_result"
    }
   ],
   "source": [
    "\"Hola esto tiene comillas simples '' \""
   ]
  },
  {
   "cell_type": "code",
   "execution_count": 27,
   "id": "0ee349ab-5c96-414b-a179-c6fd38f9a40d",
   "metadata": {},
   "outputs": [
    {
     "data": {
      "text/plain": [
       "'Hola esto tiene comillas dobles \"\"'"
      ]
     },
     "execution_count": 27,
     "metadata": {},
     "output_type": "execute_result"
    }
   ],
   "source": [
    "'Hola esto tiene comillas dobles \"\"'"
   ]
  },
  {
   "cell_type": "code",
   "execution_count": 30,
   "id": "a55f9a2f-d6ed-4813-94ed-4ae2338ba3ca",
   "metadata": {},
   "outputs": [
    {
     "data": {
      "text/plain": [
       "'Hola esto tiene comillas dobles\"\"'"
      ]
     },
     "execution_count": 30,
     "metadata": {},
     "output_type": "execute_result"
    }
   ],
   "source": [
    "\"Hola esto tiene comillas dobles\\\"\\\"\""
   ]
  },
  {
   "cell_type": "code",
   "execution_count": 4,
   "id": "57eb3acd-f5bb-4b29-9d86-f02e1928d77d",
   "metadata": {},
   "outputs": [],
   "source": [
    "#esto es un comentario"
   ]
  },
  {
   "cell_type": "code",
   "execution_count": 5,
   "id": "fc013859-d856-44f0-8270-4bb1d7c69ef4",
   "metadata": {},
   "outputs": [
    {
     "name": "stdout",
     "output_type": "stream",
     "text": [
      "5\n"
     ]
    }
   ],
   "source": [
    "print(n)"
   ]
  },
  {
   "cell_type": "code",
   "execution_count": 6,
   "id": "66f123f2-92d6-47a1-9e14-b8c57396d6da",
   "metadata": {},
   "outputs": [
    {
     "name": "stdout",
     "output_type": "stream",
     "text": [
      "Hola mundo\n"
     ]
    }
   ],
   "source": [
    "print(\"Hola mundo\")\n"
   ]
  },
  {
   "cell_type": "code",
   "execution_count": 9,
   "id": "0c9db566-c0aa-4602-a5a5-4f279bc69b61",
   "metadata": {},
   "outputs": [
    {
     "name": "stdout",
     "output_type": "stream",
     "text": [
      "Hola numero: 5\n"
     ]
    }
   ],
   "source": [
    "print(\"Hola numero:\",n)"
   ]
  },
  {
   "cell_type": "code",
   "execution_count": 10,
   "id": "03200d04-8bb2-419e-9001-ac88ae167949",
   "metadata": {},
   "outputs": [
    {
     "name": "stdout",
     "output_type": "stream",
     "text": [
      "hola\thola\n"
     ]
    }
   ],
   "source": [
    "print(\"hola\\thola\")"
   ]
  },
  {
   "cell_type": "code",
   "execution_count": 11,
   "id": "d6433a3b-5404-47e9-b974-0b73f4f0c4e5",
   "metadata": {},
   "outputs": [
    {
     "name": "stdout",
     "output_type": "stream",
     "text": [
      "hola\n",
      "hola\n"
     ]
    }
   ],
   "source": [
    "print(\"hola\\nhola\")"
   ]
  },
  {
   "cell_type": "code",
   "execution_count": 12,
   "id": "cd8f9893-ca76-4c6a-81dc-6a66e383ad73",
   "metadata": {},
   "outputs": [
    {
     "name": "stdout",
     "output_type": "stream",
     "text": [
      "C:\n",
      "ombre\n"
     ]
    }
   ],
   "source": [
    "print(\"C:\\nombre\")"
   ]
  },
  {
   "cell_type": "code",
   "execution_count": 16,
   "id": "5de16152-6449-4697-88fc-d1c8ccadecd5",
   "metadata": {},
   "outputs": [
    {
     "name": "stdout",
     "output_type": "stream",
     "text": [
      "C:\\nombre\n"
     ]
    }
   ],
   "source": [
    "print(r\"C:\\nombre\")"
   ]
  },
  {
   "cell_type": "code",
   "execution_count": 14,
   "id": "e7d31933-5759-42eb-8b3c-882a08acf88c",
   "metadata": {},
   "outputs": [
    {
     "name": "stdout",
     "output_type": "stream",
     "text": [
      "hola como estas\n",
      "todo bien \n",
      "jajajaj\n"
     ]
    }
   ],
   "source": [
    "print(\"\"\"hola como estas\n",
    "todo bien \n",
    "jajajaj\"\"\")"
   ]
  },
  {
   "cell_type": "code",
   "execution_count": 17,
   "id": "ecbe71bb-3c33-419f-bc27-0502028f04e3",
   "metadata": {},
   "outputs": [],
   "source": [
    "cad=\"hola como estas\\n todo bien\"\n"
   ]
  },
  {
   "cell_type": "code",
   "execution_count": 18,
   "id": "f6c4a12e-cbb2-4f82-80ff-2a47f25ad091",
   "metadata": {},
   "outputs": [
    {
     "data": {
      "text/plain": [
       "'hola como estas\\n todo bien'"
      ]
     },
     "execution_count": 18,
     "metadata": {},
     "output_type": "execute_result"
    }
   ],
   "source": [
    "cad"
   ]
  },
  {
   "cell_type": "code",
   "execution_count": 19,
   "id": "b865f8ee-70be-4c82-b4e4-95f01ace63e8",
   "metadata": {},
   "outputs": [
    {
     "name": "stdout",
     "output_type": "stream",
     "text": [
      "hola como estas\n",
      " todo bien\n"
     ]
    }
   ],
   "source": [
    "print(cad)"
   ]
  },
  {
   "cell_type": "code",
   "execution_count": 20,
   "id": "51a0a718-40e1-46aa-86de-10ac884ac00b",
   "metadata": {},
   "outputs": [],
   "source": [
    "cad=cad+cad"
   ]
  },
  {
   "cell_type": "code",
   "execution_count": 21,
   "id": "118892ab-4308-4934-bd7d-7ac8397666d5",
   "metadata": {},
   "outputs": [
    {
     "data": {
      "text/plain": [
       "'hola como estas\\n todo bienhola como estas\\n todo bien'"
      ]
     },
     "execution_count": 21,
     "metadata": {},
     "output_type": "execute_result"
    }
   ],
   "source": [
    "cad"
   ]
  },
  {
   "cell_type": "code",
   "execution_count": 23,
   "id": "98474a1e-6e2f-437d-8382-07bbc6aa73d4",
   "metadata": {},
   "outputs": [],
   "source": [
    "saludo=\"hola \"*10"
   ]
  },
  {
   "cell_type": "code",
   "execution_count": 24,
   "id": "7c4597ba-8aa5-4d3c-a1be-d3678c6d8f4c",
   "metadata": {},
   "outputs": [
    {
     "data": {
      "text/plain": [
       "'hola hola hola hola hola hola hola hola hola hola '"
      ]
     },
     "execution_count": 24,
     "metadata": {},
     "output_type": "execute_result"
    }
   ],
   "source": [
    "saludo"
   ]
  },
  {
   "cell_type": "code",
   "execution_count": 25,
   "id": "7014d1dd-9134-415e-bb5b-a86d0c180184",
   "metadata": {},
   "outputs": [],
   "source": [
    "saludo=\"hola\""
   ]
  },
  {
   "cell_type": "code",
   "execution_count": 26,
   "id": "8be0e0d9-9e85-4f07-b57d-dfef0bc27b84",
   "metadata": {},
   "outputs": [
    {
     "data": {
      "text/plain": [
       "'h'"
      ]
     },
     "execution_count": 26,
     "metadata": {},
     "output_type": "execute_result"
    }
   ],
   "source": [
    "saludo[0]"
   ]
  },
  {
   "cell_type": "code",
   "execution_count": 27,
   "id": "d83d6f71-f47a-464c-ac7f-15d2df900cda",
   "metadata": {},
   "outputs": [
    {
     "data": {
      "text/plain": [
       "'a'"
      ]
     },
     "execution_count": 27,
     "metadata": {},
     "output_type": "execute_result"
    }
   ],
   "source": [
    "saludo[3]\n"
   ]
  },
  {
   "cell_type": "code",
   "execution_count": 28,
   "id": "b86f7b96-b170-49e0-a70e-894fddedb244",
   "metadata": {},
   "outputs": [
    {
     "data": {
      "text/plain": [
       "'a'"
      ]
     },
     "execution_count": 28,
     "metadata": {},
     "output_type": "execute_result"
    }
   ],
   "source": [
    "saludo[-1]\n"
   ]
  },
  {
   "cell_type": "code",
   "execution_count": 29,
   "id": "94b183c6-1e7a-425b-8224-f4ef47a456b0",
   "metadata": {},
   "outputs": [
    {
     "name": "stdout",
     "output_type": "stream",
     "text": [
      "l\n"
     ]
    }
   ],
   "source": [
    "print(saludo[2])"
   ]
  },
  {
   "cell_type": "code",
   "execution_count": 34,
   "id": "a16c5aee-49da-465b-a5f6-6434106015b3",
   "metadata": {},
   "outputs": [
    {
     "data": {
      "text/plain": [
       "'hol'"
      ]
     },
     "execution_count": 34,
     "metadata": {},
     "output_type": "execute_result"
    }
   ],
   "source": [
    "saludo[0:3]"
   ]
  },
  {
   "cell_type": "code",
   "execution_count": 35,
   "id": "12206fab-1f68-41d2-a99f-e86038925c23",
   "metadata": {},
   "outputs": [
    {
     "data": {
      "text/plain": [
       "'la'"
      ]
     },
     "execution_count": 35,
     "metadata": {},
     "output_type": "execute_result"
    }
   ],
   "source": [
    "saludo[2:]"
   ]
  },
  {
   "cell_type": "code",
   "execution_count": 36,
   "id": "c0eaf5c8-a145-485f-8313-2a4932ce4768",
   "metadata": {},
   "outputs": [
    {
     "data": {
      "text/plain": [
       "'ho'"
      ]
     },
     "execution_count": 36,
     "metadata": {},
     "output_type": "execute_result"
    }
   ],
   "source": [
    "saludo[:2]"
   ]
  },
  {
   "cell_type": "code",
   "execution_count": 37,
   "id": "96c4856c-175f-49a6-a585-3633052c2899",
   "metadata": {},
   "outputs": [
    {
     "data": {
      "text/plain": [
       "'hola'"
      ]
     },
     "execution_count": 37,
     "metadata": {},
     "output_type": "execute_result"
    }
   ],
   "source": [
    "saludo[:]"
   ]
  },
  {
   "cell_type": "code",
   "execution_count": 38,
   "id": "3e43ef86-52cf-44ef-8477-7bc5627fcf71",
   "metadata": {},
   "outputs": [
    {
     "ename": "IndexError",
     "evalue": "string index out of range",
     "output_type": "error",
     "traceback": [
      "\u001b[1;31m----------------------------------------------\u001b[0m",
      "\u001b[1;31mIndexError\u001b[0m   Traceback (most recent call last)",
      "Cell \u001b[1;32mIn[38], line 1\u001b[0m\n\u001b[1;32m----> 1\u001b[0m \u001b[43msaludo\u001b[49m\u001b[43m[\u001b[49m\u001b[38;5;241;43m99\u001b[39;49m\u001b[43m]\u001b[49m\n",
      "\u001b[1;31mIndexError\u001b[0m: string index out of range"
     ]
    }
   ],
   "source": [
    "saludo[99]"
   ]
  },
  {
   "cell_type": "code",
   "execution_count": 39,
   "id": "97e31514-93e4-44b7-b30e-c654dae79554",
   "metadata": {},
   "outputs": [
    {
     "ename": "TypeError",
     "evalue": "'str' object does not support item assignment",
     "output_type": "error",
     "traceback": [
      "\u001b[1;31m----------------------------------------------\u001b[0m",
      "\u001b[1;31mTypeError\u001b[0m    Traceback (most recent call last)",
      "Cell \u001b[1;32mIn[39], line 1\u001b[0m\n\u001b[1;32m----> 1\u001b[0m \u001b[43msaludo\u001b[49m\u001b[43m[\u001b[49m\u001b[38;5;241;43m0\u001b[39;49m\u001b[43m]\u001b[49m\u001b[38;5;241m=\u001b[39m\u001b[38;5;124m\"\u001b[39m\u001b[38;5;124mp\u001b[39m\u001b[38;5;124m\"\u001b[39m\n",
      "\u001b[1;31mTypeError\u001b[0m: 'str' object does not support item assignment"
     ]
    }
   ],
   "source": [
    "saludo[0]=\"p\""
   ]
  },
  {
   "cell_type": "code",
   "execution_count": 41,
   "id": "88a5fa46-c7f6-40fc-8141-bed81d4371c8",
   "metadata": {},
   "outputs": [],
   "source": [
    "saludo=\"p\"+saludo[1:]"
   ]
  },
  {
   "cell_type": "code",
   "execution_count": 42,
   "id": "971a14b2-d5f4-4d60-8a44-57c9e562ffb5",
   "metadata": {},
   "outputs": [
    {
     "data": {
      "text/plain": [
       "'pola'"
      ]
     },
     "execution_count": 42,
     "metadata": {},
     "output_type": "execute_result"
    }
   ],
   "source": [
    "saludo"
   ]
  },
  {
   "cell_type": "code",
   "execution_count": 43,
   "id": "e02aaee8-9e2a-4cc3-8bfa-1152369c1808",
   "metadata": {},
   "outputs": [
    {
     "data": {
      "text/plain": [
       "4"
      ]
     },
     "execution_count": 43,
     "metadata": {},
     "output_type": "execute_result"
    }
   ],
   "source": [
    "len(saludo)"
   ]
  },
  {
   "cell_type": "code",
   "execution_count": null,
   "id": "e0e90218-5127-4ea6-a00f-087bdaaacf7f",
   "metadata": {},
   "outputs": [],
   "source": [
    "saludo"
   ]
  }
 ],
 "metadata": {
  "kernelspec": {
   "display_name": "Python 3 (ipykernel)",
   "language": "python",
   "name": "python3"
  },
  "language_info": {
   "codemirror_mode": {
    "name": "ipython",
    "version": 3
   },
   "file_extension": ".py",
   "mimetype": "text/x-python",
   "name": "python",
   "nbconvert_exporter": "python",
   "pygments_lexer": "ipython3",
   "version": "3.12.2"
  }
 },
 "nbformat": 4,
 "nbformat_minor": 5
}
