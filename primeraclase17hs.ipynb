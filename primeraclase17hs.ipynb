{
 "cells": [
  {
   "cell_type": "code",
   "execution_count": 1,
   "id": "13a7dc08-efb1-4862-b11c-bb3822c1ad43",
   "metadata": {},
   "outputs": [
    {
     "data": {
      "text/plain": [
       "5"
      ]
     },
     "execution_count": 1,
     "metadata": {},
     "output_type": "execute_result"
    }
   ],
   "source": [
    "3+2"
   ]
  },
  {
   "cell_type": "code",
   "execution_count": 2,
   "id": "572a3c24-caa4-4750-a4cd-86bd67cec9a7",
   "metadata": {},
   "outputs": [
    {
     "data": {
      "text/plain": [
       "1"
      ]
     },
     "execution_count": 2,
     "metadata": {},
     "output_type": "execute_result"
    }
   ],
   "source": [
    "3-2\n"
   ]
  },
  {
   "cell_type": "code",
   "execution_count": 3,
   "id": "36d7e096-7ef8-4f79-886d-c6393355f873",
   "metadata": {},
   "outputs": [
    {
     "data": {
      "text/plain": [
       "90"
      ]
     },
     "execution_count": 3,
     "metadata": {},
     "output_type": "execute_result"
    }
   ],
   "source": [
    "45*2"
   ]
  },
  {
   "cell_type": "code",
   "execution_count": 4,
   "id": "66028a1e-82c7-4222-8413-6083a27e8126",
   "metadata": {},
   "outputs": [
    {
     "data": {
      "text/plain": [
       "5.0"
      ]
     },
     "execution_count": 4,
     "metadata": {},
     "output_type": "execute_result"
    }
   ],
   "source": [
    "45/9"
   ]
  },
  {
   "cell_type": "code",
   "execution_count": 5,
   "id": "aaec1c60-868a-47ad-9083-cf348dc7b4ee",
   "metadata": {},
   "outputs": [
    {
     "data": {
      "text/plain": [
       "2"
      ]
     },
     "execution_count": 5,
     "metadata": {},
     "output_type": "execute_result"
    }
   ],
   "source": [
    "5//2"
   ]
  },
  {
   "cell_type": "code",
   "execution_count": 6,
   "id": "1326c78c-f003-400b-922b-25631f3fd6b0",
   "metadata": {},
   "outputs": [
    {
     "data": {
      "text/plain": [
       "1"
      ]
     },
     "execution_count": 6,
     "metadata": {},
     "output_type": "execute_result"
    }
   ],
   "source": [
    "5%2"
   ]
  },
  {
   "cell_type": "code",
   "execution_count": 7,
   "id": "26264e0d-fb07-40ee-a3da-05ebb9724abf",
   "metadata": {},
   "outputs": [
    {
     "data": {
      "text/plain": [
       "3"
      ]
     },
     "execution_count": 7,
     "metadata": {},
     "output_type": "execute_result"
    }
   ],
   "source": [
    "13%5"
   ]
  },
  {
   "cell_type": "code",
   "execution_count": 8,
   "id": "8387209b-20a1-445c-825a-30643e217c03",
   "metadata": {},
   "outputs": [
    {
     "data": {
      "text/plain": [
       "6"
      ]
     },
     "execution_count": 8,
     "metadata": {},
     "output_type": "execute_result"
    }
   ],
   "source": [
    "13//2"
   ]
  },
  {
   "cell_type": "code",
   "execution_count": 9,
   "id": "f0e2a65c-add5-4d3d-86fb-be2df9591f1c",
   "metadata": {},
   "outputs": [
    {
     "data": {
      "text/plain": [
       "2"
      ]
     },
     "execution_count": 9,
     "metadata": {},
     "output_type": "execute_result"
    }
   ],
   "source": [
    "13//5\n"
   ]
  },
  {
   "cell_type": "code",
   "execution_count": 15,
   "id": "7dcac21a-a840-4548-b939-495e2db76d9b",
   "metadata": {},
   "outputs": [],
   "source": [
    "n=5"
   ]
  },
  {
   "cell_type": "code",
   "execution_count": 11,
   "id": "71902a79-dccb-49df-83b2-f62374691c8f",
   "metadata": {},
   "outputs": [
    {
     "data": {
      "text/plain": [
       "7"
      ]
     },
     "execution_count": 11,
     "metadata": {},
     "output_type": "execute_result"
    }
   ],
   "source": [
    "n+2"
   ]
  },
  {
   "cell_type": "code",
   "execution_count": 19,
   "id": "e6a67362-512f-4b4b-95dc-ae0eaa1adef7",
   "metadata": {},
   "outputs": [],
   "source": [
    "n=n+2"
   ]
  },
  {
   "cell_type": "code",
   "execution_count": 20,
   "id": "9edff047-9453-49a6-874b-8230ab1dca2a",
   "metadata": {},
   "outputs": [
    {
     "data": {
      "text/plain": [
       "7"
      ]
     },
     "execution_count": 20,
     "metadata": {},
     "output_type": "execute_result"
    }
   ],
   "source": [
    "n"
   ]
  },
  {
   "cell_type": "code",
   "execution_count": 21,
   "id": "ade7abbc-8646-47ea-925c-5f929dc5b5d3",
   "metadata": {},
   "outputs": [
    {
     "data": {
      "text/plain": [
       "49"
      ]
     },
     "execution_count": 21,
     "metadata": {},
     "output_type": "execute_result"
    }
   ],
   "source": [
    "n*n"
   ]
  },
  {
   "cell_type": "code",
   "execution_count": 22,
   "id": "7e713274-0ebd-46e2-8c1f-4dca43285b4b",
   "metadata": {},
   "outputs": [
    {
     "ename": "SyntaxError",
     "evalue": "invalid syntax (1016740375.py, line 1)",
     "output_type": "error",
     "traceback": [
      "\u001b[1;36m  Cell \u001b[1;32mIn[22], line 1\u001b[1;36m\u001b[0m\n\u001b[1;33m    n=5 j=3\u001b[0m\n\u001b[1;37m        ^\u001b[0m\n\u001b[1;31mSyntaxError\u001b[0m\u001b[1;31m:\u001b[0m invalid syntax\n"
     ]
    }
   ],
   "source": [
    "n=5 j=3"
   ]
  },
  {
   "cell_type": "code",
   "execution_count": 23,
   "id": "76f3c441-b5f7-40ff-891e-9afd5955f2c4",
   "metadata": {},
   "outputs": [],
   "source": [
    "n=5\n",
    "j=3"
   ]
  },
  {
   "cell_type": "code",
   "execution_count": 24,
   "id": "83959aa5-c8d4-4d66-821c-c6b9a65a259d",
   "metadata": {},
   "outputs": [],
   "source": [
    "n,j=10,7"
   ]
  },
  {
   "cell_type": "code",
   "execution_count": 25,
   "id": "ba4e6bcd-7632-45fd-9d9f-9b59812249d4",
   "metadata": {},
   "outputs": [
    {
     "data": {
      "text/plain": [
       "7"
      ]
     },
     "execution_count": 25,
     "metadata": {},
     "output_type": "execute_result"
    }
   ],
   "source": [
    "j"
   ]
  },
  {
   "cell_type": "code",
   "execution_count": 39,
   "id": "a4f5a445-e88c-433b-a138-d12e6cbd3ec9",
   "metadata": {},
   "outputs": [],
   "source": [
    "nota1=8\n",
    "nota2=5\n",
    "promedio=(nota1+nota2)/2#aca estoy calculando el promedio\n"
   ]
  },
  {
   "cell_type": "code",
   "execution_count": 40,
   "id": "b1d4f572-ef39-4f0d-b7df-763aafcd7f37",
   "metadata": {},
   "outputs": [
    {
     "data": {
      "text/plain": [
       "6.5"
      ]
     },
     "execution_count": 40,
     "metadata": {},
     "output_type": "execute_result"
    }
   ],
   "source": [
    "promedio"
   ]
  },
  {
   "cell_type": "code",
   "execution_count": 28,
   "id": "e52f11a4-6c2c-426e-8a87-a826903a2af7",
   "metadata": {},
   "outputs": [],
   "source": [
    "#comentario"
   ]
  },
  {
   "cell_type": "code",
   "execution_count": 30,
   "id": "1280f622-2460-4e6e-a56b-15494fdae805",
   "metadata": {},
   "outputs": [
    {
     "data": {
      "text/plain": [
       "'Hola mundo'"
      ]
     },
     "execution_count": 30,
     "metadata": {},
     "output_type": "execute_result"
    }
   ],
   "source": [
    "\"Hola mundo\""
   ]
  },
  {
   "cell_type": "code",
   "execution_count": 31,
   "id": "54c4a2d7-65b0-4ad9-b954-fd9b6ba1b9f7",
   "metadata": {},
   "outputs": [
    {
     "data": {
      "text/plain": [
       "'hola mundo'"
      ]
     },
     "execution_count": 31,
     "metadata": {},
     "output_type": "execute_result"
    }
   ],
   "source": [
    "nota1\n",
    "nota2\n",
    "\"hola mundo\""
   ]
  },
  {
   "cell_type": "code",
   "execution_count": 32,
   "id": "ddb13731-d405-40ce-be35-5c48e33ec071",
   "metadata": {},
   "outputs": [
    {
     "data": {
      "text/plain": [
       "'Hola mundo'"
      ]
     },
     "execution_count": 32,
     "metadata": {},
     "output_type": "execute_result"
    }
   ],
   "source": [
    "'Hola mundo'"
   ]
  },
  {
   "cell_type": "code",
   "execution_count": 33,
   "id": "4c39d61a-2ab1-4fbb-8b13-382d201ece5a",
   "metadata": {},
   "outputs": [
    {
     "data": {
      "text/plain": [
       "\"hola esto tiene 'comillas' simples\""
      ]
     },
     "execution_count": 33,
     "metadata": {},
     "output_type": "execute_result"
    }
   ],
   "source": [
    "\"hola esto tiene 'comillas' simples\""
   ]
  },
  {
   "cell_type": "code",
   "execution_count": 34,
   "id": "4d7c5674-e2cd-4bcd-911a-db6cd0151230",
   "metadata": {},
   "outputs": [
    {
     "data": {
      "text/plain": [
       "'hola esto tiene \"comillas\" simples'"
      ]
     },
     "execution_count": 34,
     "metadata": {},
     "output_type": "execute_result"
    }
   ],
   "source": [
    "'hola esto tiene \"comillas\" simples'"
   ]
  },
  {
   "cell_type": "code",
   "execution_count": 35,
   "id": "897b782e-13ef-4ca7-ad71-4e97bf6ceae9",
   "metadata": {},
   "outputs": [
    {
     "ename": "SyntaxError",
     "evalue": "invalid syntax (4288927036.py, line 1)",
     "output_type": "error",
     "traceback": [
      "\u001b[1;36m  Cell \u001b[1;32mIn[35], line 1\u001b[1;36m\u001b[0m\n\u001b[1;33m    'hola esto tiene 'comillas' simples'\u001b[0m\n\u001b[1;37m                      ^\u001b[0m\n\u001b[1;31mSyntaxError\u001b[0m\u001b[1;31m:\u001b[0m invalid syntax\n"
     ]
    }
   ],
   "source": [
    "'hola esto tiene 'comillas' simples'"
   ]
  },
  {
   "cell_type": "code",
   "execution_count": 36,
   "id": "cdebd7a5-623c-48af-8ab1-a0a1bf1b0ee1",
   "metadata": {},
   "outputs": [
    {
     "data": {
      "text/plain": [
       "\"hola esto tiene 'comillas' simples\""
      ]
     },
     "execution_count": 36,
     "metadata": {},
     "output_type": "execute_result"
    }
   ],
   "source": [
    "'hola esto tiene \\'comillas\\' simples'"
   ]
  },
  {
   "cell_type": "code",
   "execution_count": 37,
   "id": "99f05820-e7f9-4a14-9a04-716deadc3828",
   "metadata": {},
   "outputs": [
    {
     "name": "stdout",
     "output_type": "stream",
     "text": [
      "8\n",
      "4\n",
      "hola mundo\n"
     ]
    }
   ],
   "source": [
    "print(nota1)\n",
    "print(nota2)\n",
    "print(\"hola mundo\")"
   ]
  },
  {
   "cell_type": "code",
   "execution_count": 38,
   "id": "a03c4d69-1a5d-4427-a528-5665905fb5d6",
   "metadata": {},
   "outputs": [
    {
     "name": "stdout",
     "output_type": "stream",
     "text": [
      "8 4 holamundo\n"
     ]
    }
   ],
   "source": [
    "print(nota1,nota2,\"holamundo\")"
   ]
  },
  {
   "cell_type": "code",
   "execution_count": 41,
   "id": "a680f54a-cb64-47c1-9f2b-e7be2a4d2074",
   "metadata": {},
   "outputs": [
    {
     "name": "stdout",
     "output_type": "stream",
     "text": [
      "tu promedio es: 6.5\n"
     ]
    }
   ],
   "source": [
    "print(\"tu promedio es:\",(nota1+nota2)/2)"
   ]
  },
  {
   "cell_type": "code",
   "execution_count": 42,
   "id": "00d79954-70c1-44be-b52a-3e39d5a386a3",
   "metadata": {},
   "outputs": [
    {
     "name": "stdout",
     "output_type": "stream",
     "text": [
      "tu promedio es:\t 6.5\n"
     ]
    }
   ],
   "source": [
    "print(\"tu promedio es:\\t\",(nota1+nota2)/2)"
   ]
  },
  {
   "cell_type": "code",
   "execution_count": 48,
   "id": "e22b5bca-869a-490b-b2ea-35305fefbea2",
   "metadata": {},
   "outputs": [
    {
     "name": "stdout",
     "output_type": "stream",
     "text": [
      "tu promedio es:\n",
      "\t       6.5\n"
     ]
    }
   ],
   "source": [
    "print(\"tu promedio es:\\n\\t      \",(nota1+nota2)/2)"
   ]
  },
  {
   "cell_type": "code",
   "execution_count": 50,
   "id": "b9206d00-d8cb-47fa-909a-49da5c56df21",
   "metadata": {},
   "outputs": [
    {
     "name": "stdout",
     "output_type": "stream",
     "text": [
      "c:\\niño\n"
     ]
    }
   ],
   "source": [
    "print(r\"c:\\niño\")"
   ]
  },
  {
   "cell_type": "code",
   "execution_count": 53,
   "id": "3360df7b-b278-459c-955d-e7441aefa72e",
   "metadata": {},
   "outputs": [
    {
     "name": "stdout",
     "output_type": "stream",
     "text": [
      "    hola \n",
      "                    como estas\n",
      "todo bien    \n"
     ]
    }
   ],
   "source": [
    "print(\"\"\"    hola \n",
    "                    como estas\n",
    "todo bien    \"\"\")"
   ]
  },
  {
   "cell_type": "code",
   "execution_count": 54,
   "id": "ef9d5789-c835-4efa-8688-d52a458a10f9",
   "metadata": {},
   "outputs": [],
   "source": [
    "palabra=\"python\"\n",
    "\n"
   ]
  },
  {
   "cell_type": "code",
   "execution_count": 55,
   "id": "8c352ab0-65d6-462c-b5e7-b307490246a4",
   "metadata": {},
   "outputs": [
    {
     "data": {
      "text/plain": [
       "'pythonpython'"
      ]
     },
     "execution_count": 55,
     "metadata": {},
     "output_type": "execute_result"
    }
   ],
   "source": [
    "palabra+palabra"
   ]
  },
  {
   "cell_type": "code",
   "execution_count": 56,
   "id": "b5f72202-9d15-4859-8348-9e9961af216f",
   "metadata": {},
   "outputs": [
    {
     "data": {
      "text/plain": [
       "'python python'"
      ]
     },
     "execution_count": 56,
     "metadata": {},
     "output_type": "execute_result"
    }
   ],
   "source": [
    "palabra+\" \"+palabra"
   ]
  },
  {
   "cell_type": "code",
   "execution_count": 58,
   "id": "4cd484ce-86a7-43c9-8cc1-e2031a34f67e",
   "metadata": {},
   "outputs": [
    {
     "name": "stdout",
     "output_type": "stream",
     "text": [
      "python python\n"
     ]
    }
   ],
   "source": [
    "print(palabra,palabra)"
   ]
  },
  {
   "cell_type": "code",
   "execution_count": 59,
   "id": "6dfbe35f-f878-455b-951b-3e0db0f25fc0",
   "metadata": {},
   "outputs": [
    {
     "name": "stdout",
     "output_type": "stream",
     "text": [
      "pythonpythonpythonpythonpythonpythonpythonpythonpythonpython\n"
     ]
    }
   ],
   "source": [
    "print(palabra*10)"
   ]
  },
  {
   "cell_type": "code",
   "execution_count": 60,
   "id": "177603a0-005b-41c5-88b5-5e140cd16871",
   "metadata": {},
   "outputs": [
    {
     "data": {
      "text/plain": [
       "'p'"
      ]
     },
     "execution_count": 60,
     "metadata": {},
     "output_type": "execute_result"
    }
   ],
   "source": [
    "palabra[0]"
   ]
  },
  {
   "cell_type": "code",
   "execution_count": 61,
   "id": "dcacdc94-d9b3-4054-ad08-63037a7dcbd6",
   "metadata": {},
   "outputs": [
    {
     "data": {
      "text/plain": [
       "'h'"
      ]
     },
     "execution_count": 61,
     "metadata": {},
     "output_type": "execute_result"
    }
   ],
   "source": [
    "palabra[3]"
   ]
  },
  {
   "cell_type": "code",
   "execution_count": 62,
   "id": "6415beaf-8648-470f-81ee-c246150859e2",
   "metadata": {},
   "outputs": [
    {
     "data": {
      "text/plain": [
       "'n'"
      ]
     },
     "execution_count": 62,
     "metadata": {},
     "output_type": "execute_result"
    }
   ],
   "source": [
    "palabra[-1]"
   ]
  },
  {
   "cell_type": "code",
   "execution_count": 63,
   "id": "b73b18d1-2867-43c8-ad21-72007bf17fa0",
   "metadata": {},
   "outputs": [
    {
     "data": {
      "text/plain": [
       "'py'"
      ]
     },
     "execution_count": 63,
     "metadata": {},
     "output_type": "execute_result"
    }
   ],
   "source": [
    "palabra[0:2]"
   ]
  },
  {
   "cell_type": "code",
   "execution_count": 64,
   "id": "0aa986e5-62bb-42c3-90e8-2ba694e20497",
   "metadata": {},
   "outputs": [
    {
     "data": {
      "text/plain": [
       "'pyt'"
      ]
     },
     "execution_count": 64,
     "metadata": {},
     "output_type": "execute_result"
    }
   ],
   "source": [
    "palabra[0:3]"
   ]
  },
  {
   "cell_type": "code",
   "execution_count": 65,
   "id": "3e3f7a8d-98f9-4e5f-9719-160aee1e4260",
   "metadata": {},
   "outputs": [
    {
     "data": {
      "text/plain": [
       "'hon'"
      ]
     },
     "execution_count": 65,
     "metadata": {},
     "output_type": "execute_result"
    }
   ],
   "source": [
    "palabra[3:]"
   ]
  },
  {
   "cell_type": "code",
   "execution_count": 66,
   "id": "3e9d883e-e782-49b0-824d-9e36011ce93e",
   "metadata": {},
   "outputs": [
    {
     "data": {
      "text/plain": [
       "'pyth'"
      ]
     },
     "execution_count": 66,
     "metadata": {},
     "output_type": "execute_result"
    }
   ],
   "source": [
    "palabra[:4]"
   ]
  },
  {
   "cell_type": "code",
   "execution_count": 67,
   "id": "5eaefe5b-3e97-42b9-b255-64ed357db37b",
   "metadata": {},
   "outputs": [
    {
     "ename": "IndexError",
     "evalue": "string index out of range",
     "output_type": "error",
     "traceback": [
      "\u001b[1;31m---------------------------------------------------------------------------\u001b[0m",
      "\u001b[1;31mIndexError\u001b[0m                                Traceback (most recent call last)",
      "Cell \u001b[1;32mIn[67], line 1\u001b[0m\n\u001b[1;32m----> 1\u001b[0m \u001b[43mpalabra\u001b[49m\u001b[43m[\u001b[49m\u001b[38;5;241;43m99\u001b[39;49m\u001b[43m]\u001b[49m\n",
      "\u001b[1;31mIndexError\u001b[0m: string index out of range"
     ]
    }
   ],
   "source": [
    "palabra[99]"
   ]
  },
  {
   "cell_type": "code",
   "execution_count": 68,
   "id": "2b903e81-5983-4c3c-80e1-c2cbbf64d37e",
   "metadata": {},
   "outputs": [
    {
     "ename": "TypeError",
     "evalue": "'str' object does not support item assignment",
     "output_type": "error",
     "traceback": [
      "\u001b[1;31m---------------------------------------------------------------------------\u001b[0m",
      "\u001b[1;31mTypeError\u001b[0m                                 Traceback (most recent call last)",
      "Cell \u001b[1;32mIn[68], line 1\u001b[0m\n\u001b[1;32m----> 1\u001b[0m \u001b[43mpalabra\u001b[49m\u001b[43m[\u001b[49m\u001b[38;5;241;43m0\u001b[39;49m\u001b[43m]\u001b[49m\u001b[38;5;241m=\u001b[39m\u001b[38;5;124m\"\u001b[39m\u001b[38;5;124mn\u001b[39m\u001b[38;5;124m\"\u001b[39m\n",
      "\u001b[1;31mTypeError\u001b[0m: 'str' object does not support item assignment"
     ]
    }
   ],
   "source": [
    "palabra[0]=\"n\""
   ]
  },
  {
   "cell_type": "code",
   "execution_count": 69,
   "id": "2d64e882-972d-4e9a-a801-208dde8f8be3",
   "metadata": {},
   "outputs": [],
   "source": [
    "palabra=\"n\"+palabra[1:]"
   ]
  },
  {
   "cell_type": "code",
   "execution_count": 70,
   "id": "8dbe855e-b1a4-4f0e-a935-cd9e5b90013f",
   "metadata": {},
   "outputs": [
    {
     "data": {
      "text/plain": [
       "'nython'"
      ]
     },
     "execution_count": 70,
     "metadata": {},
     "output_type": "execute_result"
    }
   ],
   "source": [
    "palabra"
   ]
  },
  {
   "cell_type": "code",
   "execution_count": 71,
   "id": "051a23f1-0a2d-4592-b055-f8992aeba24f",
   "metadata": {},
   "outputs": [
    {
     "data": {
      "text/plain": [
       "6"
      ]
     },
     "execution_count": 71,
     "metadata": {},
     "output_type": "execute_result"
    }
   ],
   "source": [
    "len(palabra)"
   ]
  },
  {
   "cell_type": "code",
   "execution_count": 72,
   "id": "ecc08eb9-52b9-485b-b50b-55fd7ccb8539",
   "metadata": {},
   "outputs": [
    {
     "data": {
      "text/plain": [
       "'nohtyn'"
      ]
     },
     "execution_count": 72,
     "metadata": {},
     "output_type": "execute_result"
    }
   ],
   "source": [
    "palabra[::-1]"
   ]
  },
  {
   "cell_type": "code",
   "execution_count": null,
   "id": "65185eb5-6eaf-4bb7-83c3-9034920b99a0",
   "metadata": {},
   "outputs": [],
   "source": []
  }
 ],
 "metadata": {
  "kernelspec": {
   "display_name": "Python 3 (ipykernel)",
   "language": "python",
   "name": "python3"
  },
  "language_info": {
   "codemirror_mode": {
    "name": "ipython",
    "version": 3
   },
   "file_extension": ".py",
   "mimetype": "text/x-python",
   "name": "python",
   "nbconvert_exporter": "python",
   "pygments_lexer": "ipython3",
   "version": "3.12.2"
  }
 },
 "nbformat": 4,
 "nbformat_minor": 5
}
