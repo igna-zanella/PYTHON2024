{
 "cells": [
  {
   "cell_type": "code",
   "execution_count": 16,
   "id": "c8121f81-541d-4062-acfc-dad11eee57eb",
   "metadata": {},
   "outputs": [
    {
     "name": "stdout",
     "output_type": "stream",
     "text": [
      "\"\n",
      "Bienvenidos al 18 \n",
      "\n",
      "no te pases del 18 si queres ganar\n",
      "\n"
     ]
    },
    {
     "name": "stdin",
     "output_type": "stream",
     "text": [
      "Ingrese cantidad de jugadores:  2\n",
      "Ingrese su nombre:  kik1\n",
      "ENTER para tirar \n"
     ]
    },
    {
     "name": "stdout",
     "output_type": "stream",
     "text": [
      "0\n",
      "kik1 Su número es 3\n"
     ]
    },
    {
     "name": "stdin",
     "output_type": "stream",
     "text": [
      "¿Tira otra vez?:  no\n"
     ]
    },
    {
     "name": "stdout",
     "output_type": "stream",
     "text": [
      "1\n",
      "kik1 Su número es 3\n"
     ]
    },
    {
     "name": "stdin",
     "output_type": "stream",
     "text": [
      "¿Tira otra vez?:  no\n"
     ]
    },
    {
     "name": "stdout",
     "output_type": "stream",
     "text": [
      "Su puntaje es 3\n"
     ]
    }
   ],
   "source": [
    "import random ### para realizar un entero pidiendo rango\n",
    "\n",
    "print(\"\"\"\"\n",
    "Bienvenidos al 18 \n",
    "\n",
    "no te pases del 18 si queres ganar\n",
    "\"\"\")\n",
    "\n",
    "i=1\n",
    "cant = int(input(\"Ingrese cantidad de jugadores: \"))\n",
    "\n",
    "while True:\n",
    "    j1 = input(\"Ingrese su nombre: \")\n",
    "    input(\"ENTER para tirar\")\n",
    "    while i != cant:\n",
    "        total=0\n",
    "        i = i+1\n",
    "        dec = \"si\" \n",
    "        if dec == \"si\":\n",
    "            print(i)\n",
    "            dado = random.randint(1, 6)\n",
    "            print(j1,\"Su número es\",dado)\n",
    "            total+=dado\n",
    "            dec=input(\"¿Tira otra vez?: \")\n",
    "        elif  dec == \"no\":\n",
    "            break\n",
    "        \n",
    "    break\n",
    "print(\"Su puntaje es\", total)"
   ]
  },
  {
   "cell_type": "code",
   "execution_count": null,
   "id": "b2e96b68-d13c-4dbf-927b-9ac2841bc3ab",
   "metadata": {},
   "outputs": [],
   "source": []
  }
 ],
 "metadata": {
  "kernelspec": {
   "display_name": "Python 3 (ipykernel)",
   "language": "python",
   "name": "python3"
  },
  "language_info": {
   "codemirror_mode": {
    "name": "ipython",
    "version": 3
   },
   "file_extension": ".py",
   "mimetype": "text/x-python",
   "name": "python",
   "nbconvert_exporter": "python",
   "pygments_lexer": "ipython3",
   "version": "3.12.2"
  }
 },
 "nbformat": 4,
 "nbformat_minor": 5
}
