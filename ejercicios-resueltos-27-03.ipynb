{
 "cells": [
  {
   "cell_type": "code",
   "execution_count": 1,
   "id": "ff60e464-0b58-47b0-800b-30305c9516b5",
   "metadata": {},
   "outputs": [
    {
     "name": "stdout",
     "output_type": "stream",
     "text": [
      "\n",
      "Ingrese dos números para averiguar si son iguales o cuál es el mayor: \n"
     ]
    },
    {
     "name": "stdin",
     "output_type": "stream",
     "text": [
      "\n",
      "Primer Número:  21\n",
      "Segundo Número:  19\n"
     ]
    },
    {
     "name": "stdout",
     "output_type": "stream",
     "text": [
      "\n",
      "Los números son diferentes y el primero es el mayor.\n"
     ]
    }
   ],
   "source": [
    "# Ejercicio 1\n",
    "# Realiza un programa que lea 2 números por teclado y determine los siguientes aspectos (es suficiente con mostrar True o False):\n",
    "# •\tSi los dos números son iguales\n",
    "# •\tSi los dos números son diferentes\n",
    "# •\tSi el primero es mayor que el segundo\n",
    "# •\tSi el segundo es mayor o igual que el primero\n",
    "\n",
    "\n",
    "print(\"\\nIngrese dos números para averiguar si son iguales o cuál es el mayor: \")\n",
    "num1 = int(input(\"\\nPrimer Número: \"))\n",
    "num2 = int(input(\"Segundo Número: \"))\n",
    "\n",
    "if num1 == num2:\n",
    "    print(\"\\nLos números son iguales\")\n",
    "elif num1 != num2:\n",
    "    if num1 > num2:\n",
    "        print(\"\\nLos números son diferentes y el primero es el mayor.\")\n",
    "    else:\n",
    "        print(\"\\nLos números son diferentes y el segundo es el mayor.\")"
   ]
  },
  {
   "cell_type": "code",
   "execution_count": 2,
   "id": "a3c6d1ef-0277-4230-8ec4-88d6ec9aaeb1",
   "metadata": {},
   "outputs": [
    {
     "name": "stdin",
     "output_type": "stream",
     "text": [
      "\n",
      "Ingrese un texto para determinar si su longitud es mayor e igual a 3 caracteres o mayor a 10:  cadena\n"
     ]
    },
    {
     "name": "stdout",
     "output_type": "stream",
     "text": [
      "True\n"
     ]
    }
   ],
   "source": [
    "# Ejercicio 2\n",
    "# Utilizando operadores lógicos, determina si una cadena de texto introducida por el usuario tiene una longitud mayor o igual que 3 y a su vez es menor que 10 (es suficiente con mostrar True o False).\n",
    "\n",
    "cadena = input(\"\\nIngrese un texto para determinar si su longitud es mayor e igual a 3 caracteres o mayor a 10: \")\n",
    "\n",
    "if len(cadena) >=3 and len(cadena) <10:\n",
    "    print(True)\n",
    "else:\n",
    "    print(False)"
   ]
  },
  {
   "cell_type": "code",
   "execution_count": 3,
   "id": "31141f45-598e-40ee-abd9-91134b922b42",
   "metadata": {},
   "outputs": [
    {
     "name": "stdin",
     "output_type": "stream",
     "text": [
      "\n",
      "Ingrese un número entero entre 1 y 9 para obtener un número mágico:  2\n"
     ]
    },
    {
     "name": "stdout",
     "output_type": "stream",
     "text": [
      "\n",
      "Su número mágico es:  222222222\n"
     ]
    }
   ],
   "source": [
    "# Ejercicio 3\n",
    "# Realiza un programa que cumpla el siguiente algoritmo utilizando siempre que sea posible operadores en asignación:\n",
    "# •\tGuarda en una variable numero_magico el valor 12345679 (sin el 8)\n",
    "# •\tLee por pantalla otro numero_usuario, especifica que sea entre 1 y 9\n",
    "# •\tMultiplica el numero_usuario por 9 en sí mismo\n",
    "# •\tMultiplica el numero_magico por el numero_usuario en sí mismo\n",
    "# •\tFinalmente muestra el valor final del numero_usuario por pantalla\n",
    "\n",
    "numero_magico = 12345679\n",
    "numero_usuario = int(input(\"\\nIngrese un número entero entre 1 y 9 para obtener un número mágico: \"))\n",
    "\n",
    "if numero_usuario > 0 and numero_usuario < 10:\n",
    "    numero_usuario*=9\n",
    "    # print(numero_usuario)\n",
    "    numero_usuario *= numero_magico\n",
    "    print(\"\\nSu número mágico es: \", numero_usuario)\n",
    "else:\n",
    "    print(\"\\nEl número que ingresó no es válido.\")\n"
   ]
  },
  {
   "cell_type": "code",
   "execution_count": 5,
   "id": "68703d81-efa1-4a6a-a2b2-4c44cb9338b1",
   "metadata": {},
   "outputs": [
    {
     "name": "stdout",
     "output_type": "stream",
     "text": [
      "\n",
      "Ingrese dos números para realizar una operación aritmética: \n"
     ]
    },
    {
     "name": "stdin",
     "output_type": "stream",
     "text": [
      "\n",
      "Primer número:  44\n",
      "Segundo número:  3\n"
     ]
    },
    {
     "name": "stdout",
     "output_type": "stream",
     "text": [
      "\n",
      "¿Qué operación desea realizar? \n",
      "\n",
      " 1.- \u001b[92mSuma\u001b[0m\n",
      " 2.- \u001b[92mResta\u001b[0m\n",
      " 3.- \u001b[92mMultiplicación\u001b[0m\n",
      " 4.- \u001b[92mDivisión\u001b[0m\n",
      " \u001b[31mDIGITE '0' PARA SALIR\u001b[0m\n"
     ]
    },
    {
     "name": "stdin",
     "output_type": "stream",
     "text": [
      "\n",
      "Elija una opción:  0\n"
     ]
    },
    {
     "name": "stdout",
     "output_type": "stream",
     "text": [
      "\n",
      "Gracias. Vuelva prontos.\n"
     ]
    }
   ],
   "source": [
    "# Ejercicio 4\n",
    "# Realizar una calculadora con menú para cada operación.\n",
    "\n",
    "print(\"\\nIngrese dos números para realizar una operación aritmética: \")\n",
    "\n",
    "num1 = int(input(\"\\nPrimer número: \"))\n",
    "num2 = int(input(\"Segundo número: \"))\n",
    "\n",
    "print(\"\\n¿Qué operación desea realizar? \\n\\n 1.- \\033[92mSuma\\033[0m\\n 2.- \\033[92mResta\\033[0m\\n 3.- \\033[92mMultiplicación\\033[0m\\n 4.- \\033[92mDivisión\\033[0m\\n \\033[31mDIGITE '0' PARA SALIR\\033[0m\")\n",
    "\n",
    "opcion = int(input(\"\\nElija una opción: \"))\n",
    "\n",
    "if opcion == 0:\n",
    "    print(\"\\nGracias. Vuelva prontos.\")\n",
    "elif opcion == 1:\n",
    "    print(\"El resultado de la suma es:\",num1 + num2)\n",
    "elif opcion == 2:\n",
    "    print(\"El resultado de la resta es:\",num1 - num2)\n",
    "elif opcion == 3:\n",
    "    print(\"El resultado de la multiplicación es:\",num1 * num2)\n",
    "elif opcion == 4:\n",
    "    print(\"El resultado de la división es:\",num1 / num2)\n",
    "else:\n",
    "    print(\"\\nNo ingresó una opción válida.\")"
   ]
  },
  {
   "cell_type": "code",
   "execution_count": null,
   "id": "9eda8973-5369-4843-98ca-cbd6a8d53371",
   "metadata": {},
   "outputs": [],
   "source": []
  }
 ],
 "metadata": {
  "kernelspec": {
   "display_name": "Python 3 (ipykernel)",
   "language": "python",
   "name": "python3"
  },
  "language_info": {
   "codemirror_mode": {
    "name": "ipython",
    "version": 3
   },
   "file_extension": ".py",
   "mimetype": "text/x-python",
   "name": "python",
   "nbconvert_exporter": "python",
   "pygments_lexer": "ipython3",
   "version": "3.12.2"
  }
 },
 "nbformat": 4,
 "nbformat_minor": 5
}
