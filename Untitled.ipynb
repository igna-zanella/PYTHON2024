{
 "cells": [
  {
   "cell_type": "code",
   "execution_count": null,
   "id": "65232dd1-0df6-4160-b2e8-1a1bfec2c1c2",
   "metadata": {},
   "outputs": [],
   "source": [
    "# Ejercicio 1\n",
    "# Realiza un programa que lea 2 números por teclado y determine los siguientes aspectos (es suficiente con mostrar True o False):\n",
    "# •\tSi los dos números son iguales\n",
    "# •\tSi los dos números son diferentes\n",
    "# •\tSi el primero es mayor que el segundo\n",
    "# •\tSi el segundo es mayor o igual que el primero\n",
    "\n",
    "\n",
    "print(\"\\nIngrese dos números para averiguar si son iguales o cuál es el mayor: \")\n",
    "num1 = int(input(\"\\nPrimer Número: \"))\n",
    "num2 = int(input(\"Segundo Número: \"))\n",
    "\n",
    "if num1 == num2:\n",
    "    print(\"\\nLos números son iguales\")\n",
    "elif num1 != num2:\n",
    "    if num1 > num2:\n",
    "        print(\"\\nLos números son diferentes y el primero es el mayor.\")\n",
    "    else:\n",
    "        print(\"\\nLos números son diferentes y el segundo es el mayor.\")\n"
   ]
  },
  {
   "cell_type": "code",
   "execution_count": null,
   "id": "ac69064c-7492-4350-a3f5-439f1b817215",
   "metadata": {},
   "outputs": [],
   "source": [
    "# Ejercicio 2\n",
    "# Utilizando operadores lógicos, determina si una cadena de texto introducida por el usuario tiene una longitud mayor o igual que 3 y a su vez es menor que 10 (es suficiente con mostrar True o False).\n",
    "\n",
    "cadena = input(\"\\nIngrese un texto para determinar si su longitud es menor e igual a 3 caracteres o mayor a 10: \")\n",
    "\n",
    "if len(cadena) >=3 and len(cadena) <10:\n",
    "    print(True)\n",
    "else:\n",
    "    print(False)\n",
    "\n"
   ]
  },
  {
   "cell_type": "code",
   "execution_count": null,
   "id": "ffaa6d9b-7c52-4586-a02d-ca0e666ca53d",
   "metadata": {},
   "outputs": [],
   "source": [
    "# Ejercicio 3\n",
    "# Realiza un programa que cumpla el siguiente algoritmo utilizando siempre que sea posible operadores en asignación:\n",
    "# •\tGuarda en una variable numero_magico el valor 12345679 (sin el 8)\n",
    "# •\tLee por pantalla otro numero_usuario, especifica que sea entre 1 y 9\n",
    "# •\tMultiplica el numero_usuario por 9 en sí mismo\n",
    "# •\tMultiplica el numero_magico por el numero_usuario en sí mismo\n",
    "# •\tFinalmente muestra el valor final del numero_usuario por pantalla\n",
    "\n",
    "numero_magico = 12345679\n",
    "numero_usuario = int(input(\"\\nIngrese un número entero entre 1 y 9 para obtener un número mágico: \"))\n",
    "\n",
    "if numero_usuario > 0 and numero_usuario < 10:\n",
    "    numero_usuario*=9\n",
    "    # print(numero_usuario)\n",
    "    numero_usuario *= numero_magico\n",
    "    print(\"\\nSu número mágico es: \", numero_usuario)\n",
    "else:\n",
    "    print(\"\\nEl número que ingresó no es válido.\")\n",
    "   \n",
    "\n"
   ]
  },
  {
   "cell_type": "code",
   "execution_count": 3,
   "id": "a933785d-512e-4f59-9841-f3c6644557ae",
   "metadata": {},
   "outputs": [
    {
     "name": "stdout",
     "output_type": "stream",
     "text": [
      "\n",
      "Ingrese dos números para realizar una operación aritmética: \n"
     ]
    },
    {
     "name": "stdin",
     "output_type": "stream",
     "text": [
      "\n",
      "Primer número:  23\n",
      "Segundo número:  12\n"
     ]
    },
    {
     "name": "stdout",
     "output_type": "stream",
     "text": [
      "\n",
      "¿Qué operación desea realizar? \n",
      "\n",
      " 1.- \u001b[92mSuma\u001b[0m\n",
      " 2.- \u001b[92mResta\u001b[0m\n",
      " 3.- \u001b[92mMultiplicación\u001b[0m\n",
      " 4.- \u001b[92mDivisión\u001b[0m\n",
      " \u001b[31mDIGITE '0' PARA SALIR\u001b[0m\n"
     ]
    },
    {
     "name": "stdin",
     "output_type": "stream",
     "text": [
      "\n",
      "Elija una opción:  4\n"
     ]
    },
    {
     "name": "stdout",
     "output_type": "stream",
     "text": [
      "El resultado de la división es: 1.9166666666666667\n"
     ]
    }
   ],
   "source": [
    "print(\"\\nIngrese dos números para realizar una operación aritmética: \")\n",
    "\n",
    "num1 = int(input(\"\\nPrimer número: \"))\n",
    "num2 = int(input(\"Segundo número: \"))\n",
    "\n",
    "print(\"\\n¿Qué operación desea realizar? \\n\\n 1.- \\033[92mSuma\\033[0m\\n 2.- \\033[92mResta\\033[0m\\n 3.- \\033[92mMultiplicación\\033[0m\\n 4.- \\033[92mDivisión\\033[0m\\n \\033[31mDIGITE '0' PARA SALIR\\033[0m\")\n",
    "\n",
    "opcion = int(input(\"\\nElija una opción: \"))\n",
    "\n",
    "if opcion == 1 and opcion !=0:\n",
    "    print(\"El resultado de la suma es:\",num1 + num2)\n",
    "elif opcion == 2 and opcion !=0:\n",
    "    print(\"El resultado de la resta es:\",num1 - num2)\n",
    "elif opcion == 3 and opcion !=0:\n",
    "    print(\"El resultado de la multiplicación es:\",num1 * num2)\n",
    "elif opcion == 4 and opcion !=0:\n",
    "    print(\"El resultado de la división es:\",num1 / num2)\n",
    "else:\n",
    "    print(\"\\nGracias. Vuelva prontos.\")"
   ]
  },
  {
   "cell_type": "code",
   "execution_count": 16,
   "id": "1115a4dd-4747-4809-8fe8-e648f6ae60d6",
   "metadata": {},
   "outputs": [
    {
     "name": "stdout",
     "output_type": "stream",
     "text": [
      "PAR E IMPAR\n"
     ]
    },
    {
     "name": "stdin",
     "output_type": "stream",
     "text": [
      "Por favor, ingrese un número par:  1\n",
      "Por favor, ingrese un número impar:  4\n"
     ]
    },
    {
     "name": "stdout",
     "output_type": "stream",
     "text": [
      "Uno o más de los valores que ha escrito no son correctos\n",
      "Ejecute de nuevo el programa para volver a intentarlo\n"
     ]
    }
   ],
   "source": [
    "print(\"PAR E IMPAR 1\")\n",
    "\n",
    "par = int(input(\"Por favor, ingrese un número par: \"))\n",
    "impar = int(input(\"Por favor, ingrese un número impar: \"))\n",
    "\n",
    "if (par % 2 == 0) and (impar %2 != 0):\n",
    "    print(\"¡Gracias por su colaboración!\")\n",
    "elif (impar % 2 == 0) or (par %2 != 0):\n",
    "    print(\"Uno o más de los valores que ha escrito no son correctos\")\n",
    "    print(\"Ejecute de nuevo el programa para volver a intentarlo\")\n"
   ]
  },
  {
   "cell_type": "code",
   "execution_count": 37,
   "id": "dc181ef8-1122-4990-97d9-55d5b95a5bd5",
   "metadata": {},
   "outputs": [
    {
     "name": "stdout",
     "output_type": "stream",
     "text": [
      "PAR E IMPAR\n"
     ]
    },
    {
     "name": "stdin",
     "output_type": "stream",
     "text": [
      "Por favor, ingrese un número par:  1\n"
     ]
    },
    {
     "name": "stdout",
     "output_type": "stream",
     "text": [
      "No ha escrito un número par\n",
      "Ejecute de nuevo el programa para volver a intentarlo\n"
     ]
    }
   ],
   "source": [
    "print(\"PAR E IMPAR 2\")\n",
    "\n",
    "par = int(input(\"Por favor, ingrese un número par: \"))\n",
    "\n",
    "if par % 2 == 0:\n",
    "    impar = int(input(\"Por favor, ingrese un número impar: \"))\n",
    "    if impar % 2 != 0:\n",
    "        print(\"¡Gracias por su colaboración!\")\n",
    "    else:    \n",
    "        print(\"No ha escrito un número impar\")\n",
    "        print(\"Ejecute de nuevo el programa para volver a intentarlo\")\n",
    "    \n",
    "else:\n",
    "    print(\"No ha escrito un número par\")\n",
    "    print(\"Ejecute de nuevo el programa para volver a intentarlo\")"
   ]
  },
  {
   "cell_type": "code",
   "execution_count": 51,
   "id": "710105ed-fc9d-403c-8927-391ee5480a9b",
   "metadata": {},
   "outputs": [
    {
     "name": "stdout",
     "output_type": "stream",
     "text": [
      "PAR E IMPAR\n"
     ]
    },
    {
     "name": "stdin",
     "output_type": "stream",
     "text": [
      "Por favor, ingrese un número par:  1\n",
      "Por favor, ingrese un número impar:  4\n"
     ]
    },
    {
     "name": "stdout",
     "output_type": "stream",
     "text": [
      "No ha escrito un número par ni tampoco impar donde corresponde.\n"
     ]
    }
   ],
   "source": [
    "print(\"PAR E IMPAR 3\")\n",
    "\n",
    "par = int(input(\"Por favor, ingrese un número par: \"))\n",
    "impar = int(input(\"Por favor, ingrese un número impar: \"))\n",
    "\n",
    "if (par % 2 == 0) and (impar %2 != 0):\n",
    "    print(\"¡Gracias por su colaboración!\")\n",
    "elif (impar % 2 == 0) and (par %2 == 0):\n",
    "    print(\"No ha escrito un número impar.\")\n",
    "    print(\"Ejecute de nuevo el programa para volver a intentarlo.\")\n",
    "elif (impar % 2 != 0) and (par %2 != 0):\n",
    "    print(\"No ha escrito un número par.\")\n",
    "    print(\"Ejecute de nuevo el programa para volver a intentarlo.\")\n",
    "else:\n",
    "    print(\"No ha escrito un número par ni tampoco impar donde corresponde.\")"
   ]
  },
  {
   "cell_type": "code",
   "execution_count": null,
   "id": "faea4bce-48eb-4c5d-a750-7aedd0c542c6",
   "metadata": {},
   "outputs": [],
   "source": []
  }
 ],
 "metadata": {
  "kernelspec": {
   "display_name": "Python 3 (ipykernel)",
   "language": "python",
   "name": "python3"
  },
  "language_info": {
   "codemirror_mode": {
    "name": "ipython",
    "version": 3
   },
   "file_extension": ".py",
   "mimetype": "text/x-python",
   "name": "python",
   "nbconvert_exporter": "python",
   "pygments_lexer": "ipython3",
   "version": "3.12.2"
  }
 },
 "nbformat": 4,
 "nbformat_minor": 5
}
