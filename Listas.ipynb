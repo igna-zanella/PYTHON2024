{
 "cells": [
  {
   "cell_type": "code",
   "execution_count": 18,
   "id": "606b5534-e159-42bd-9e28-0e22d9f7b3c3",
   "metadata": {},
   "outputs": [],
   "source": [
    "precios=[1,2,3,4]"
   ]
  },
  {
   "cell_type": "code",
   "execution_count": 2,
   "id": "e8944031-f4b3-4004-9fda-7975f5c2edd1",
   "metadata": {},
   "outputs": [],
   "source": [
    "empleados=[\"PEPe\",\"juan\",\"pedro\"]"
   ]
  },
  {
   "cell_type": "code",
   "execution_count": 4,
   "id": "47bf607e-ee2a-48b6-889b-4d08896d17c5",
   "metadata": {},
   "outputs": [],
   "source": [
    "productos=[\"medialuna\",\"churros\",\"pan\"]\n"
   ]
  },
  {
   "cell_type": "code",
   "execution_count": 5,
   "id": "497249cc-2d98-479b-91c8-f0bc277b1574",
   "metadata": {},
   "outputs": [
    {
     "name": "stdout",
     "output_type": "stream",
     "text": [
      "juan\n"
     ]
    }
   ],
   "source": [
    "print(empleados[1])"
   ]
  },
  {
   "cell_type": "code",
   "execution_count": 6,
   "id": "1dfbf89a-6c6a-41de-a480-96657d295ae7",
   "metadata": {},
   "outputs": [
    {
     "name": "stdout",
     "output_type": "stream",
     "text": [
      "['PEPe', 'juan', 'pedro']\n"
     ]
    }
   ],
   "source": [
    "print(empleados)\n"
   ]
  },
  {
   "cell_type": "code",
   "execution_count": 7,
   "id": "97a7e670-663d-4004-91de-bda4eb804f75",
   "metadata": {},
   "outputs": [
    {
     "data": {
      "text/plain": [
       "['PEPe', 'juan', 'pedro', 1, 2, 3, 4]"
      ]
     },
     "execution_count": 7,
     "metadata": {},
     "output_type": "execute_result"
    }
   ],
   "source": [
    "empleados+precios"
   ]
  },
  {
   "cell_type": "code",
   "execution_count": 8,
   "id": "9f0a19f1-06fa-44e5-b230-a35202f0e3c3",
   "metadata": {},
   "outputs": [
    {
     "name": "stdout",
     "output_type": "stream",
     "text": [
      "['medialuna', 'churros', 'pan', 1, 2, 3, 4]\n"
     ]
    }
   ],
   "source": [
    "print(productos+precios)"
   ]
  },
  {
   "cell_type": "code",
   "execution_count": 9,
   "id": "50a052c6-8daa-4fc0-a44d-531996217da2",
   "metadata": {},
   "outputs": [],
   "source": [
    "palabra=\"Python\""
   ]
  },
  {
   "cell_type": "code",
   "execution_count": 10,
   "id": "ff2e219c-caf3-492e-8bf2-2e582d23bf38",
   "metadata": {},
   "outputs": [
    {
     "ename": "TypeError",
     "evalue": "'str' object does not support item assignment",
     "output_type": "error",
     "traceback": [
      "\u001b[1;31m----------------------------------------------\u001b[0m",
      "\u001b[1;31mTypeError\u001b[0m    Traceback (most recent call last)",
      "Cell \u001b[1;32mIn[10], line 1\u001b[0m\n\u001b[1;32m----> 1\u001b[0m \u001b[43mpalabra\u001b[49m\u001b[43m[\u001b[49m\u001b[38;5;241;43m0\u001b[39;49m\u001b[43m]\u001b[49m\u001b[38;5;241m=\u001b[39m\u001b[38;5;124m\"\u001b[39m\u001b[38;5;124mY\u001b[39m\u001b[38;5;124m\"\u001b[39m\n",
      "\u001b[1;31mTypeError\u001b[0m: 'str' object does not support item assignment"
     ]
    }
   ],
   "source": [
    "palabra[0]=\"Y\""
   ]
  },
  {
   "cell_type": "code",
   "execution_count": 11,
   "id": "483fce0d-9a97-4767-86f7-e452a82c41e0",
   "metadata": {},
   "outputs": [],
   "source": [
    "empleados[1]=\"jose\""
   ]
  },
  {
   "cell_type": "code",
   "execution_count": 12,
   "id": "1b10fd33-703f-40c3-aa83-7f1c34f17846",
   "metadata": {},
   "outputs": [
    {
     "data": {
      "text/plain": [
       "['PEPe', 'jose', 'pedro']"
      ]
     },
     "execution_count": 12,
     "metadata": {},
     "output_type": "execute_result"
    }
   ],
   "source": [
    "empleados\n"
   ]
  },
  {
   "cell_type": "code",
   "execution_count": 13,
   "id": "9d0016ba-2c62-40a6-9c94-d42b44e7f465",
   "metadata": {},
   "outputs": [],
   "source": [
    "productos.append(\"torta\")"
   ]
  },
  {
   "cell_type": "code",
   "execution_count": 14,
   "id": "fa54db41-0987-4095-90be-f6fbdec292b8",
   "metadata": {},
   "outputs": [
    {
     "data": {
      "text/plain": [
       "['medialuna', 'churros', 'pan', 'torta']"
      ]
     },
     "execution_count": 14,
     "metadata": {},
     "output_type": "execute_result"
    }
   ],
   "source": [
    "productos"
   ]
  },
  {
   "cell_type": "code",
   "execution_count": 15,
   "id": "7344cba2-9235-41e9-a667-c3ef18a3084c",
   "metadata": {},
   "outputs": [],
   "source": [
    "precios=[]"
   ]
  },
  {
   "cell_type": "code",
   "execution_count": 16,
   "id": "8630bda5-afa7-4b55-966a-d3f9ef0da1aa",
   "metadata": {},
   "outputs": [
    {
     "data": {
      "text/plain": [
       "[]"
      ]
     },
     "execution_count": 16,
     "metadata": {},
     "output_type": "execute_result"
    }
   ],
   "source": [
    "precios\n"
   ]
  },
  {
   "cell_type": "code",
   "execution_count": 17,
   "id": "1c43ac44-4c63-4e01-9bda-084a752483d4",
   "metadata": {},
   "outputs": [
    {
     "data": {
      "text/plain": [
       "4"
      ]
     },
     "execution_count": 17,
     "metadata": {},
     "output_type": "execute_result"
    }
   ],
   "source": [
    "len(productos)"
   ]
  },
  {
   "cell_type": "code",
   "execution_count": 19,
   "id": "8c0ca42f-ff60-4ed0-98bd-c5304e9ac3b4",
   "metadata": {},
   "outputs": [],
   "source": [
    "panaderia=[empleados,productos,precios]"
   ]
  },
  {
   "cell_type": "code",
   "execution_count": 20,
   "id": "8adb834e-6e20-47e1-b4ca-e1c5a82d474f",
   "metadata": {},
   "outputs": [
    {
     "data": {
      "text/plain": [
       "[['PEPe', 'jose', 'pedro'],\n",
       " ['medialuna', 'churros', 'pan', 'torta'],\n",
       " [1, 2, 3, 4]]"
      ]
     },
     "execution_count": 20,
     "metadata": {},
     "output_type": "execute_result"
    }
   ],
   "source": [
    "panaderia"
   ]
  },
  {
   "cell_type": "code",
   "execution_count": 21,
   "id": "d38f7e5c-7aa5-45cc-9df5-b5fe497b3bef",
   "metadata": {},
   "outputs": [
    {
     "name": "stdout",
     "output_type": "stream",
     "text": [
      "[1, 2, 3, 4]\n"
     ]
    }
   ],
   "source": [
    "print(panaderia[2])"
   ]
  },
  {
   "cell_type": "code",
   "execution_count": 23,
   "id": "61f8a50a-5bf9-4172-9733-8fe8378b06ce",
   "metadata": {},
   "outputs": [
    {
     "name": "stdout",
     "output_type": "stream",
     "text": [
      "pan\n"
     ]
    }
   ],
   "source": [
    "print(panaderia[1][2])#con el 1 accedemos a la lista de productos y con el 2 a pan"
   ]
  },
  {
   "cell_type": "code",
   "execution_count": 25,
   "id": "bf5047cc-81ac-4352-ad93-9ab8d3b97219",
   "metadata": {},
   "outputs": [
    {
     "name": "stdout",
     "output_type": "stream",
     "text": [
      "pedro\n"
     ]
    }
   ],
   "source": [
    "print(panaderia[0][2])"
   ]
  },
  {
   "cell_type": "code",
   "execution_count": 30,
   "id": "99767cd0-5b09-4780-b203-7226865d453a",
   "metadata": {},
   "outputs": [],
   "source": [
    "l1=[1,2,3,4,5,5,5,5]\n",
    "l2=[6,7,8,9]\n",
    "l1.extend(l2)"
   ]
  },
  {
   "cell_type": "markdown",
   "id": "58620ac2-6f38-4949-869c-e61d2dedf266",
   "metadata": {},
   "source": [
    "l1"
   ]
  },
  {
   "cell_type": "code",
   "execution_count": 32,
   "id": "8252c9b0-0db3-41ff-b046-d31609266e3c",
   "metadata": {},
   "outputs": [
    {
     "data": {
      "text/plain": [
       "[1, 2, 3, 4, 5, 5, 5, 5, 6, 7, 8, 9]"
      ]
     },
     "execution_count": 32,
     "metadata": {},
     "output_type": "execute_result"
    }
   ],
   "source": [
    "l1"
   ]
  },
  {
   "cell_type": "code",
   "execution_count": 31,
   "id": "cca6b626-b97f-4f53-b2d7-9b3b16e65f7c",
   "metadata": {},
   "outputs": [
    {
     "data": {
      "text/plain": [
       "4"
      ]
     },
     "execution_count": 31,
     "metadata": {},
     "output_type": "execute_result"
    }
   ],
   "source": [
    "l1.count(5)"
   ]
  },
  {
   "cell_type": "code",
   "execution_count": 33,
   "id": "d7824bf2-8573-4d79-ad92-eb21e54664d2",
   "metadata": {},
   "outputs": [
    {
     "data": {
      "text/plain": [
       "1"
      ]
     },
     "execution_count": 33,
     "metadata": {},
     "output_type": "execute_result"
    }
   ],
   "source": [
    "productos.index(\"churros\")"
   ]
  },
  {
   "cell_type": "code",
   "execution_count": 34,
   "id": "bd3fbcdb-7393-4388-a071-fbb847098287",
   "metadata": {},
   "outputs": [],
   "source": [
    "l1.insert(0,0)#ubicacion y el segundo el elemento que quiero insertar\n"
   ]
  },
  {
   "cell_type": "code",
   "execution_count": 35,
   "id": "cf4ff00b-07c0-431b-8eb4-c78dc5d32f1e",
   "metadata": {},
   "outputs": [
    {
     "data": {
      "text/plain": [
       "[0, 1, 2, 3, 4, 5, 5, 5, 5, 6, 7, 8, 9]"
      ]
     },
     "execution_count": 35,
     "metadata": {},
     "output_type": "execute_result"
    }
   ],
   "source": [
    "l1"
   ]
  },
  {
   "cell_type": "code",
   "execution_count": 36,
   "id": "c583f7ec-17d1-4a84-b106-fc848b2a290f",
   "metadata": {},
   "outputs": [
    {
     "data": {
      "text/plain": [
       "9"
      ]
     },
     "execution_count": 36,
     "metadata": {},
     "output_type": "execute_result"
    }
   ],
   "source": [
    "l1.pop()"
   ]
  },
  {
   "cell_type": "code",
   "execution_count": 37,
   "id": "6d43ea8c-afdb-464d-9803-608995e723b3",
   "metadata": {},
   "outputs": [
    {
     "data": {
      "text/plain": [
       "[0, 1, 2, 3, 4, 5, 5, 5, 5, 6, 7, 8]"
      ]
     },
     "execution_count": 37,
     "metadata": {},
     "output_type": "execute_result"
    }
   ],
   "source": [
    "l1"
   ]
  },
  {
   "cell_type": "code",
   "execution_count": 38,
   "id": "e36441b7-f144-4d8a-8e00-477a3a956228",
   "metadata": {},
   "outputs": [
    {
     "data": {
      "text/plain": [
       "6"
      ]
     },
     "execution_count": 38,
     "metadata": {},
     "output_type": "execute_result"
    }
   ],
   "source": [
    "l1.pop(9)#indice"
   ]
  },
  {
   "cell_type": "code",
   "execution_count": 39,
   "id": "237e6add-a41e-47e3-80f1-6433a36f6a6a",
   "metadata": {},
   "outputs": [
    {
     "data": {
      "text/plain": [
       "[0, 1, 2, 3, 4, 5, 5, 5, 5, 7, 8]"
      ]
     },
     "execution_count": 39,
     "metadata": {},
     "output_type": "execute_result"
    }
   ],
   "source": [
    "l1"
   ]
  },
  {
   "cell_type": "code",
   "execution_count": 40,
   "id": "a0cacb3e-521e-4e4e-a17a-7c3f0a87b370",
   "metadata": {},
   "outputs": [],
   "source": [
    "l1.remove(5)#elemento buscado "
   ]
  },
  {
   "cell_type": "code",
   "execution_count": 41,
   "id": "1f0ba384-fa3f-48d9-abc7-1ccf35c86a83",
   "metadata": {},
   "outputs": [
    {
     "data": {
      "text/plain": [
       "[0, 1, 2, 3, 4, 5, 5, 5, 7, 8]"
      ]
     },
     "execution_count": 41,
     "metadata": {},
     "output_type": "execute_result"
    }
   ],
   "source": [
    "l1"
   ]
  },
  {
   "cell_type": "code",
   "execution_count": 42,
   "id": "96724a66-466b-49bf-807a-a0dcbd17c831",
   "metadata": {},
   "outputs": [],
   "source": [
    "l1.reverse()"
   ]
  },
  {
   "cell_type": "code",
   "execution_count": 43,
   "id": "02dfd437-fabc-4872-881d-5771d038d544",
   "metadata": {},
   "outputs": [
    {
     "data": {
      "text/plain": [
       "[8, 7, 5, 5, 5, 4, 3, 2, 1, 0]"
      ]
     },
     "execution_count": 43,
     "metadata": {},
     "output_type": "execute_result"
    }
   ],
   "source": [
    "l1"
   ]
  },
  {
   "cell_type": "code",
   "execution_count": 44,
   "id": "ab0b8fa0-fa75-4c49-a2b4-19c24736faa5",
   "metadata": {},
   "outputs": [],
   "source": [
    "l1.sort()"
   ]
  },
  {
   "cell_type": "code",
   "execution_count": 45,
   "id": "8d0200ed-373e-46f6-920a-c363acdfde93",
   "metadata": {},
   "outputs": [
    {
     "data": {
      "text/plain": [
       "[0, 1, 2, 3, 4, 5, 5, 5, 7, 8]"
      ]
     },
     "execution_count": 45,
     "metadata": {},
     "output_type": "execute_result"
    }
   ],
   "source": [
    "l1"
   ]
  },
  {
   "cell_type": "code",
   "execution_count": 47,
   "id": "ef887d34-5dac-4a8f-a0d0-3a5e45310c56",
   "metadata": {},
   "outputs": [],
   "source": [
    "l1.sort(reverse=True)"
   ]
  },
  {
   "cell_type": "code",
   "execution_count": 48,
   "id": "df02b4ef-f56c-4dec-b642-a1d3cbddfc21",
   "metadata": {},
   "outputs": [
    {
     "data": {
      "text/plain": [
       "[8, 7, 5, 5, 5, 4, 3, 2, 1, 0]"
      ]
     },
     "execution_count": 48,
     "metadata": {},
     "output_type": "execute_result"
    }
   ],
   "source": [
    "l1"
   ]
  },
  {
   "cell_type": "code",
   "execution_count": null,
   "id": "fbca7b4b-77b8-47dd-9257-ef7cadd71b8f",
   "metadata": {},
   "outputs": [],
   "source": []
  }
 ],
 "metadata": {
  "kernelspec": {
   "display_name": "Python 3 (ipykernel)",
   "language": "python",
   "name": "python3"
  },
  "language_info": {
   "codemirror_mode": {
    "name": "ipython",
    "version": 3
   },
   "file_extension": ".py",
   "mimetype": "text/x-python",
   "name": "python",
   "nbconvert_exporter": "python",
   "pygments_lexer": "ipython3",
   "version": "3.12.2"
  }
 },
 "nbformat": 4,
 "nbformat_minor": 5
}
