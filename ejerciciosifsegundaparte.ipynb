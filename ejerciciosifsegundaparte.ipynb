{
 "cells": [
  {
   "cell_type": "code",
   "execution_count": 3,
   "id": "18259798-a96b-4647-bc37-23f4745c9ffb",
   "metadata": {},
   "outputs": [
    {
     "name": "stdin",
     "output_type": "stream",
     "text": [
      "Escriba un numero: 5\n",
      "Escriba segundo numero: 6\n",
      "Escriba tercer numero: 7\n"
     ]
    },
    {
     "name": "stdout",
     "output_type": "stream",
     "text": [
      "los 3 son distintos\n"
     ]
    }
   ],
   "source": [
    "num1 = int(input(\"Escriba un numero:\"))\n",
    "num2 = int(input(\"Escriba segundo numero:\"))\n",
    "num3 = int(input(\"Escriba tercer numero:\"))\n",
    "if num1==num2 and num2==num3:\n",
    "    print(\"los 3 numeros son iguales\")\n",
    "elif num1==num2 or num2==num3 or num1==num3:\n",
    "    print(\"Hay 2 numeros iguales\")\n",
    "else:\n",
    "    print(\"los 3 son distintos\")"
   ]
  },
  {
   "cell_type": "code",
   "execution_count": 7,
   "id": "052ed5e6-1aa8-49f7-9998-a4071dcad445",
   "metadata": {},
   "outputs": [
    {
     "name": "stdin",
     "output_type": "stream",
     "text": [
      "Escriba un año y le diré si es bisiesto:  2011\n"
     ]
    },
    {
     "name": "stdout",
     "output_type": "stream",
     "text": [
      "El año no es un año bisiesto.\n"
     ]
    }
   ],
   "source": [
    "fecha = int(input(\"Escriba un año y le diré si es bisiesto: \"))\n",
    "\n",
    "if fecha % 400 == 0:\n",
    "    print(\"El año es un año bisiesto porque es múltiplo de 400.\")\n",
    "elif fecha % 100 == 0:\n",
    "    print(\"El año no es un año bisiesto porque es múltiplo de 100 sin ser múltiplo de 400.\")\n",
    "elif fecha % 4 == 0:\n",
    "    print(\"El año es un año bisiesto porque es múltiplo de 4 sin ser múltiplo de 100.\")\n",
    "else:\n",
    "    print(\"El año no es un año bisiesto.\")"
   ]
  },
  {
   "cell_type": "code",
   "execution_count": 3,
   "id": "ffc9c800-4f1c-4d80-a70d-7f1f0f4415e1",
   "metadata": {},
   "outputs": [
    {
     "name": "stdout",
     "output_type": "stream",
     "text": [
      "Elija una figura geométrica:\n",
      "t o T) Triángulo\n",
      "c o C) Círculo\n"
     ]
    },
    {
     "name": "stdin",
     "output_type": "stream",
     "text": [
      "¿Qué figura quiere calcular?  tc\n"
     ]
    },
    {
     "name": "stdout",
     "output_type": "stream",
     "text": [
      "Opcion incorrecta\n"
     ]
    }
   ],
   "source": [
    "print(\"Elija una figura geométrica:\")\n",
    "print(\"t o T) Triángulo\")\n",
    "print(\"c o C) Círculo\")\n",
    "respuesta = input(\"¿Qué figura quiere calcular? \")\n",
    "if respuesta == \"T\" or respuesta == \"t\":\n",
    "    base = float(input(\"Escriba la base: \"))\n",
    "    altura = float(input(\"Escriba la altura: \"))\n",
    "    print(\"El triángulo tiene un área de: \", base * altura / 2)\n",
    "elif respuesta == \"C\" or respuesta == \"c\":\n",
    "    r = float(input(\"Escriba el radio: \"))\n",
    "    print(\"El circulo tiene un área de:\", 3.141592 * r * r)\n",
    "else:\n",
    "    print(\"Opcion incorrecta\")\n"
   ]
  },
  {
   "cell_type": "code",
   "execution_count": 11,
   "id": "c2b7c78e-66d6-428e-8748-5600005e5c78",
   "metadata": {},
   "outputs": [
    {
     "ename": "KeyboardInterrupt",
     "evalue": "Interrupted by user",
     "output_type": "error",
     "traceback": [
      "\u001b[1;31m---------------------------------------------------------------------------\u001b[0m",
      "\u001b[1;31mKeyboardInterrupt\u001b[0m                         Traceback (most recent call last)",
      "Cell \u001b[1;32mIn[11], line 1\u001b[0m\n\u001b[1;32m----> 1\u001b[0m centimetros \u001b[38;5;241m=\u001b[39m \u001b[38;5;28mint\u001b[39m(\u001b[38;5;28;43minput\u001b[39;49m\u001b[43m(\u001b[49m\u001b[38;5;124;43m\"\u001b[39;49m\u001b[38;5;124;43mEscriba una distancia en centímetros: \u001b[39;49m\u001b[38;5;124;43m\"\u001b[39;49m\u001b[43m)\u001b[49m)\n\u001b[0;32m      2\u001b[0m \u001b[38;5;28;01mif\u001b[39;00m centimetros \u001b[38;5;241m<\u001b[39m\u001b[38;5;241m=\u001b[39m \u001b[38;5;241m0\u001b[39m:\n\u001b[0;32m      3\u001b[0m     \u001b[38;5;28mprint\u001b[39m(\u001b[38;5;124m\"\u001b[39m\u001b[38;5;124mEscriba una distancia mayor que cero.\u001b[39m\u001b[38;5;124m\"\u001b[39m)\n",
      "File \u001b[1;32m~\\AppData\\Roaming\\Python\\Python312\\site-packages\\ipykernel\\kernelbase.py:1282\u001b[0m, in \u001b[0;36mKernel.raw_input\u001b[1;34m(self, prompt)\u001b[0m\n\u001b[0;32m   1280\u001b[0m     msg \u001b[38;5;241m=\u001b[39m \u001b[38;5;124m\"\u001b[39m\u001b[38;5;124mraw_input was called, but this frontend does not support input requests.\u001b[39m\u001b[38;5;124m\"\u001b[39m\n\u001b[0;32m   1281\u001b[0m     \u001b[38;5;28;01mraise\u001b[39;00m StdinNotImplementedError(msg)\n\u001b[1;32m-> 1282\u001b[0m \u001b[38;5;28;01mreturn\u001b[39;00m \u001b[38;5;28;43mself\u001b[39;49m\u001b[38;5;241;43m.\u001b[39;49m\u001b[43m_input_request\u001b[49m\u001b[43m(\u001b[49m\n\u001b[0;32m   1283\u001b[0m \u001b[43m    \u001b[49m\u001b[38;5;28;43mstr\u001b[39;49m\u001b[43m(\u001b[49m\u001b[43mprompt\u001b[49m\u001b[43m)\u001b[49m\u001b[43m,\u001b[49m\n\u001b[0;32m   1284\u001b[0m \u001b[43m    \u001b[49m\u001b[38;5;28;43mself\u001b[39;49m\u001b[38;5;241;43m.\u001b[39;49m\u001b[43m_parent_ident\u001b[49m\u001b[43m[\u001b[49m\u001b[38;5;124;43m\"\u001b[39;49m\u001b[38;5;124;43mshell\u001b[39;49m\u001b[38;5;124;43m\"\u001b[39;49m\u001b[43m]\u001b[49m\u001b[43m,\u001b[49m\n\u001b[0;32m   1285\u001b[0m \u001b[43m    \u001b[49m\u001b[38;5;28;43mself\u001b[39;49m\u001b[38;5;241;43m.\u001b[39;49m\u001b[43mget_parent\u001b[49m\u001b[43m(\u001b[49m\u001b[38;5;124;43m\"\u001b[39;49m\u001b[38;5;124;43mshell\u001b[39;49m\u001b[38;5;124;43m\"\u001b[39;49m\u001b[43m)\u001b[49m\u001b[43m,\u001b[49m\n\u001b[0;32m   1286\u001b[0m \u001b[43m    \u001b[49m\u001b[43mpassword\u001b[49m\u001b[38;5;241;43m=\u001b[39;49m\u001b[38;5;28;43;01mFalse\u001b[39;49;00m\u001b[43m,\u001b[49m\n\u001b[0;32m   1287\u001b[0m \u001b[43m\u001b[49m\u001b[43m)\u001b[49m\n",
      "File \u001b[1;32m~\\AppData\\Roaming\\Python\\Python312\\site-packages\\ipykernel\\kernelbase.py:1325\u001b[0m, in \u001b[0;36mKernel._input_request\u001b[1;34m(self, prompt, ident, parent, password)\u001b[0m\n\u001b[0;32m   1322\u001b[0m \u001b[38;5;28;01mexcept\u001b[39;00m \u001b[38;5;167;01mKeyboardInterrupt\u001b[39;00m:\n\u001b[0;32m   1323\u001b[0m     \u001b[38;5;66;03m# re-raise KeyboardInterrupt, to truncate traceback\u001b[39;00m\n\u001b[0;32m   1324\u001b[0m     msg \u001b[38;5;241m=\u001b[39m \u001b[38;5;124m\"\u001b[39m\u001b[38;5;124mInterrupted by user\u001b[39m\u001b[38;5;124m\"\u001b[39m\n\u001b[1;32m-> 1325\u001b[0m     \u001b[38;5;28;01mraise\u001b[39;00m \u001b[38;5;167;01mKeyboardInterrupt\u001b[39;00m(msg) \u001b[38;5;28;01mfrom\u001b[39;00m \u001b[38;5;28;01mNone\u001b[39;00m\n\u001b[0;32m   1326\u001b[0m \u001b[38;5;28;01mexcept\u001b[39;00m \u001b[38;5;167;01mException\u001b[39;00m:\n\u001b[0;32m   1327\u001b[0m     \u001b[38;5;28mself\u001b[39m\u001b[38;5;241m.\u001b[39mlog\u001b[38;5;241m.\u001b[39mwarning(\u001b[38;5;124m\"\u001b[39m\u001b[38;5;124mInvalid Message:\u001b[39m\u001b[38;5;124m\"\u001b[39m, exc_info\u001b[38;5;241m=\u001b[39m\u001b[38;5;28;01mTrue\u001b[39;00m)\n",
      "\u001b[1;31mKeyboardInterrupt\u001b[0m: Interrupted by user"
     ]
    }
   ],
   "source": [
    "centimetros = int(input(\"Escriba una distancia en centímetros: \"))\n",
    "if centimetros <= 0:\n",
    "    print(\"Escriba una distancia mayor que cero.\")\n",
    "else:  \n",
    "    kilometros = centimetros // 100000\n",
    "    metros = centimetros % 100000 // 100\n",
    "    resto = centimetros % 100\n",
    "    print(centimetros, \"centímetros son:\" ,kilometros, \"km\", metros ,\"m\", resto ,\"cm.\")"
   ]
  },
  {
   "cell_type": "code",
   "execution_count": 30,
   "id": "942ca71a-ca70-4e57-9a22-deea3facceaa",
   "metadata": {},
   "outputs": [
    {
     "ename": "SyntaxError",
     "evalue": "invalid syntax (742967715.py, line 23)",
     "output_type": "error",
     "traceback": [
      "\u001b[1;36m  Cell \u001b[1;32mIn[30], line 23\u001b[1;36m\u001b[0m\n\u001b[1;33m    else:\u001b[0m\n\u001b[1;37m    ^\u001b[0m\n\u001b[1;31mSyntaxError\u001b[0m\u001b[1;31m:\u001b[0m invalid syntax\n"
     ]
    }
   ],
   "source": [
    "Precios=[2000,2500,3000,4500,5000]\n",
    "opc=int(input(\"Menu a elegir \\n 1-big mac 2-tasty 3-Macnifica 4-Cajita Felíz 5-Mac Pollo\"))\n",
    "total=0\n",
    "if opc==1:\n",
    "    total+=Precios[0]\n",
    "elif opc==2:\n",
    "    total+=Precios[1]\n",
    "elif opc==3:\n",
    "    total+=Precios[2]\n",
    "elif opc==4:\n",
    "    total+=Precios[3]\n",
    "elif opc==5:\n",
    "    total+=Precios[4]\n",
    "print(total)\n",
    "opc2=(input(\"¿Desea agrandar el combo?\"))\n",
    "if opc2==\"si\":\n",
    "    total+=500\n",
    "print(total)\n",
    "opc3=(input(\"Opción de pago\"))\n",
    "if opc3==\"Efectivo\":\n",
    "    total*=0.9\n",
    "print(total)\n",
    "else:\n",
    "    total*=1.05\n",
    "print(total)\n",
    "opc4==\"¿Sos jubilado?\":\n"
   ]
  },
  {
   "cell_type": "code",
   "execution_count": null,
   "id": "d27e1ef0-03ca-43a0-b978-046b84c3ce4e",
   "metadata": {},
   "outputs": [],
   "source": []
  },
  {
   "cell_type": "code",
   "execution_count": null,
   "id": "4ce6f69b-84bd-49b1-a36b-e489fd160317",
   "metadata": {},
   "outputs": [],
   "source": []
  }
 ],
 "metadata": {
  "kernelspec": {
   "display_name": "Python 3 (ipykernel)",
   "language": "python",
   "name": "python3"
  },
  "language_info": {
   "codemirror_mode": {
    "name": "ipython",
    "version": 3
   },
   "file_extension": ".py",
   "mimetype": "text/x-python",
   "name": "python",
   "nbconvert_exporter": "python",
   "pygments_lexer": "ipython3",
   "version": "3.12.2"
  }
 },
 "nbformat": 4,
 "nbformat_minor": 5
}
